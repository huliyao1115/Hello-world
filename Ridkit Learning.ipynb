{
  "nbformat": 4,
  "nbformat_minor": 0,
  "metadata": {
    "colab": {
      "provenance": [],
      "authorship_tag": "ABX9TyN9S+/s+kCxPifBtWneLlIZ",
      "include_colab_link": true
    },
    "kernelspec": {
      "name": "python3",
      "display_name": "Python 3"
    },
    "language_info": {
      "name": "python"
    }
  },
  "cells": [
    {
      "cell_type": "markdown",
      "metadata": {
        "id": "view-in-github",
        "colab_type": "text"
      },
      "source": [
        "<a href=\"https://colab.research.google.com/github/huliyao1115/Hello-world/blob/main/Ridkit%20Learning.ipynb\" target=\"_parent\"><img src=\"https://colab.research.google.com/assets/colab-badge.svg\" alt=\"Open In Colab\"/></a>"
      ]
    },
    {
      "cell_type": "code",
      "source": [
        "# Install RDKit.\n",
        "%%capture\n",
        "!pip install rdkit"
      ],
      "metadata": {
        "id": "ZUkS3aLM5xBm"
      },
      "execution_count": 11,
      "outputs": []
    },
    {
      "cell_type": "code",
      "execution_count": 12,
      "metadata": {
        "id": "YRqDDeb34ggC"
      },
      "outputs": [],
      "source": [
        "from rdkit import Chem\n",
        "from rdkit.Chem import Draw\n",
        "from rdkit.Chem.Draw import IPythonConsole\n",
        "from rdkit.Chem import Descriptors\n",
        "from rdkit.Chem import AllChem\n",
        "from rdkit import DataStructs\n",
        "import numpy as np"
      ]
    },
    {
      "cell_type": "code",
      "source": [
        "molecule_1 = Chem.MolFromSmiles('Cc1ccccc1')"
      ],
      "metadata": {
        "id": "DIBOKHH183tU"
      },
      "execution_count": 18,
      "outputs": []
    },
    {
      "cell_type": "code",
      "source": [
        "print(molecule_1)"
      ],
      "metadata": {
        "colab": {
          "base_uri": "https://localhost:8080/"
        },
        "id": "-k5yQarm9oi1",
        "outputId": "03ca5d1b-0b3b-4adc-fb3b-409a73482bf2"
      },
      "execution_count": 19,
      "outputs": [
        {
          "output_type": "stream",
          "name": "stdout",
          "text": [
            "<rdkit.Chem.rdchem.Mol object at 0x7a7ed354a030>\n"
          ]
        }
      ]
    },
    {
      "cell_type": "code",
      "source": [
        "molecule_1\n"
      ],
      "metadata": {
        "colab": {
          "base_uri": "https://localhost:8080/",
          "height": 167
        },
        "id": "7NySUZiS_zfx",
        "outputId": "d64463dd-4f8a-49d9-842b-afdd5d5552ac"
      },
      "execution_count": 20,
      "outputs": [
        {
          "output_type": "execute_result",
          "data": {
            "text/plain": [
              "<rdkit.Chem.rdchem.Mol at 0x7a7ed354a030>"
            ],
            "image/png": "[encoded data removed]"
          },
          "metadata": {},
          "execution_count": 20
        }
      ]
    },
    {
      "cell_type": "code",
      "source": [
        "smiles = Chem.MolToSmiles(molecule_1)\n",
        "smiles"
      ],
      "metadata": {
        "colab": {
          "base_uri": "https://localhost:8080/",
          "height": 35
        },
        "id": "XuGNG2_QAV8A",
        "outputId": "e148f2fe-03e2-416f-bcbd-639ef7246f88"
      },
      "execution_count": 22,
      "outputs": [
        {
          "output_type": "execute_result",
          "data": {
            "text/plain": [
              "'Cc1ccccc1'"
            ],
            "application/vnd.google.colaboratory.intrinsic+json": {
              "type": "string"
            }
          },
          "metadata": {},
          "execution_count": 22
        }
      ]
    },
    {
      "cell_type": "code",
      "source": [
        "molecular_weight = Descriptors.MolWt(molecule_1)\n",
        "molecular_weight"
      ],
      "metadata": {
        "colab": {
          "base_uri": "https://localhost:8080/"
        },
        "id": "L90GnCKGAxRT",
        "outputId": "be5a60f4-04fc-4cc5-a780-e36d2638890f"
      },
      "execution_count": 25,
      "outputs": [
        {
          "output_type": "execute_result",
          "data": {
            "text/plain": [
              "92.14099999999999"
            ]
          },
          "metadata": {},
          "execution_count": 25
        }
      ]
    }
  ]
}