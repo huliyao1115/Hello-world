{
  "nbformat": 4,
  "nbformat_minor": 0,
  "metadata": {
    "colab": {
      "provenance": [],
      "authorship_tag": "ABX9TyOE4kD5z+fC+F7c46up85u2",
      "include_colab_link": true
    },
    "kernelspec": {
      "name": "python3",
      "display_name": "Python 3"
    },
    "language_info": {
      "name": "python"
    }
  },
  "cells": [
    {
      "cell_type": "markdown",
      "metadata": {
        "id": "view-in-github",
        "colab_type": "text"
      },
      "source": [
        "<a href=\"https://colab.research.google.com/github/huliyao1115/Hello-world/blob/main/Final%20Assignment-Polynominal%20Regression.ipynb\" target=\"_parent\"><img src=\"https://colab.research.google.com/assets/colab-badge.svg\" alt=\"Open In Colab\"/></a>"
      ]
    },
    {
      "cell_type": "code",
      "execution_count": 1,
      "metadata": {
        "id": "WeIPFTs-E4gB"
      },
      "outputs": [],
      "source": [
        "import pandas as pd"
      ]
    },
    {
      "cell_type": "code",
      "source": [
        "df = pd.read_csv('Wrong_SMILES_Delete.csv')\n"
      ],
      "metadata": {
        "id": "g0xu3cZtF3Li"
      },
      "execution_count": 9,
      "outputs": []
    },
    {
      "cell_type": "code",
      "source": [
        "df.drop(['Molar_Volume_cm3_mol','Resistivity_Ω_cm','Mohs_Hardness','Specific_Heat_Capacity_J_(g·K)-1','Ionization_Potential_eV','Electrical_Conductivity_MS_m','Thermal_Conductivity_W_m·K','Rayon_Atomique_pm','Electron_Affinity_eV','Boiling_Point_℃','Melting_Point_℃','Atomic_Number','METAL','Atomic_Number','1s', '2s', '2p', '3s', '3p', '3d', '4s', '4p', '4d', '4f', '5s', '5p'], axis=1, errors='ignore', inplace=True)"
      ],
      "metadata": {
        "id": "GUKslTnkGAOw"
      },
      "execution_count": 19,
      "outputs": []
    },
    {
      "cell_type": "code",
      "source": [
        "print(df.columns)\n"
      ],
      "metadata": {
        "colab": {
          "base_uri": "https://localhost:8080/"
        },
        "id": "1ZRtx_JdHZeg",
        "outputId": "6acae152-2632-4d38-8fb2-8498c7be8f4d"
      },
      "execution_count": 20,
      "outputs": [
        {
          "output_type": "stream",
          "name": "stdout",
          "text": [
            "Index(['Surface_Area', 'Pore_Volume', 'Pressure', 'Temperature',\n",
            "       'SMILE_Organic_linker_1', 'Molar_Mass_g_mol',\n",
            "       'Electronegativity_Pauling', 'Density_g_cm3', 'CO2 Uptake'],\n",
            "      dtype='object')\n"
          ]
        }
      ]
    },
    {
      "cell_type": "code",
      "source": [
        "df.shape"
      ],
      "metadata": {
        "colab": {
          "base_uri": "https://localhost:8080/"
        },
        "id": "iUsnrj2WMcP6",
        "outputId": "c0f37d95-a5a8-4ef9-d2c2-8263a8ea2628"
      },
      "execution_count": 22,
      "outputs": [
        {
          "output_type": "execute_result",
          "data": {
            "text/plain": [
              "(167, 9)"
            ]
          },
          "metadata": {},
          "execution_count": 22
        }
      ]
    },
    {
      "cell_type": "code",
      "source": [
        "print(df.dtypes)"
      ],
      "metadata": {
        "colab": {
          "base_uri": "https://localhost:8080/"
        },
        "id": "GV_S-o_MKni1",
        "outputId": "822409bd-e44d-4b8a-849f-e1a64a8f160b"
      },
      "execution_count": 21,
      "outputs": [
        {
          "output_type": "stream",
          "name": "stdout",
          "text": [
            "Surface_Area                 float64\n",
            "Pore_Volume                  float64\n",
            "Pressure                     float64\n",
            "Temperature                    int64\n",
            "SMILE_Organic_linker_1        object\n",
            "Molar_Mass_g_mol             float64\n",
            "Electronegativity_Pauling    float64\n",
            "Density_g_cm3                float64\n",
            "CO2 Uptake                   float64\n",
            "dtype: object\n"
          ]
        }
      ]
    },
    {
      "cell_type": "code",
      "source": [
        "!pip install rdkit"
      ],
      "metadata": {
        "colab": {
          "base_uri": "https://localhost:8080/"
        },
        "id": "NhOWprUIUMGJ",
        "outputId": "94fcd9ed-2839-4e32-ac7b-47a1bc51e24a"
      },
      "execution_count": 23,
      "outputs": [
        {
          "output_type": "stream",
          "name": "stdout",
          "text": [
            "Collecting rdkit\n",
            "  Downloading rdkit-2023.9.6-cp310-cp310-manylinux_2_17_x86_64.manylinux2014_x86_64.whl (34.9 MB)\n",
            "\u001b[2K     \u001b[90m━━━━━━━━━━━━━━━━━━━━━━━━━━━━━━━━━━━━━━━━\u001b[0m \u001b[32m34.9/34.9 MB\u001b[0m \u001b[31m25.9 MB/s\u001b[0m eta \u001b[36m0:00:00\u001b[0m\n",
            "\u001b[?25hRequirement already satisfied: numpy in /usr/local/lib/python3.10/dist-packages (from rdkit) (1.25.2)\n",
            "Requirement already satisfied: Pillow in /usr/local/lib/python3.10/dist-packages (from rdkit) (9.4.0)\n",
            "Installing collected packages: rdkit\n",
            "Successfully installed rdkit-2023.9.6\n"
          ]
        }
      ]
    },
    {
      "cell_type": "code",
      "source": [
        "import pandas as pd\n",
        "from rdkit import Chem\n",
        "from rdkit.Chem import MACCSkeys\n"
      ],
      "metadata": {
        "id": "U_WFtpSRZ3sR"
      },
      "execution_count": 24,
      "outputs": []
    },
    {
      "cell_type": "code",
      "source": [
        "# 函数：将SMILES转换为MACCS键指纹\n",
        "def smiles_to_maccs(smiles):\n",
        "    mol = Chem.MolFromSmiles(smiles)\n",
        "    if mol:\n",
        "        return MACCSkeys.GenMACCSKeys(mol).ToBitString()\n",
        "    else:\n",
        "        return None\n",
        "# 将MACCS键指纹添加到DataFrame中\n",
        "df['MACCS_Keys'] = df['SMILE_Organic_linker_1'].apply(smiles_to_maccs)"
      ],
      "metadata": {
        "colab": {
          "base_uri": "https://localhost:8080/"
        },
        "id": "PKxxjGm0a3zA",
        "outputId": "6a774a50-432d-48b8-eff6-0266bc03c75c"
      },
      "execution_count": 28,
      "outputs": [
        {
          "output_type": "stream",
          "name": "stderr",
          "text": [
            "[21:07:45] SMILES Parse Error: unclosed ring for input: 'C1=NC2=NC=NC(N)=C2N8'\n"
          ]
        }
      ]
    },
    {
      "cell_type": "code",
      "source": [
        "# 打印结果\n",
        "print(df)"
      ],
      "metadata": {
        "colab": {
          "base_uri": "https://localhost:8080/"
        },
        "id": "zKjUKzvSbBsV",
        "outputId": "9546d635-9dc7-4170-f5ae-eb3c9ebf2d29"
      },
      "execution_count": 29,
      "outputs": [
        {
          "output_type": "stream",
          "name": "stdout",
          "text": [
            "     Surface_Area  Pore_Volume  Pressure  Temperature  \\\n",
            "0          1270.0         0.71      0.15          298   \n",
            "1          1270.0         0.71      1.00          298   \n",
            "2          1270.0         0.71      1.00          313   \n",
            "3          2833.0         1.04     35.00          298   \n",
            "4          1568.0         1.07     35.00          298   \n",
            "..            ...          ...       ...          ...   \n",
            "162         147.0         0.10      1.00          298   \n",
            "163        2850.0         1.00      1.00          273   \n",
            "164        2850.0         1.00      0.15          273   \n",
            "165         704.0         0.28      1.00          298   \n",
            "166         704.0         0.28      0.15          298   \n",
            "\n",
            "                                SMILE_Organic_linker_1  Molar_Mass_g_mol  \\\n",
            "0                    OC(=O)C1=CC(=CC(=C1)C(O)=O)C(O)=O             63.55   \n",
            "1                    OC(=O)C1=CC(=CC(=C1)C(O)=O)C(O)=O             63.55   \n",
            "2                    OC(=O)C1=CC(=CC(=C1)C(O)=O)C(O)=O             63.55   \n",
            "3                           C(=O)(C1=CC=C(C=C1)C(=O)O)             65.38   \n",
            "4                         C(=O)(C1=CC(=CC=C1C(=O)O)N)O             65.38   \n",
            "..                                                 ...               ...   \n",
            "162  FC(F)(F)C(C1=CC(=CC=C1)C(=O)O)C2=CC(=CC=C2)C(=O)O             63.55   \n",
            "163           C1=CC=C(C(=C1)C(=O)O)C2=NN=CC(=C2)C(=O)O             63.55   \n",
            "164           C1=CC=C(C(=C1)C(=O)O)C2=NN=CC(=C2)C(=O)O             63.55   \n",
            "165  C1=CC(=CC=C1C2=CC(=C(C=C2)N(C3=CC=C(C=C3)C(=O)...             65.38   \n",
            "166  C1=CC(=CC=C1C2=CC(=C(C=C2)N(C3=CC=C(C=C3)C(=O)...             65.38   \n",
            "\n",
            "     Electronegativity_Pauling  Density_g_cm3  CO2 Uptake  \\\n",
            "0                         1.90           8.92        0.86   \n",
            "1                         1.90           8.92        5.27   \n",
            "2                         1.90           8.92        2.91   \n",
            "3                         1.65           7.14       21.70   \n",
            "4                         1.65           7.14       18.70   \n",
            "..                         ...            ...         ...   \n",
            "162                       1.90           8.92        2.11   \n",
            "163                       1.90           8.92        8.75   \n",
            "164                       1.90           8.92        1.83   \n",
            "165                       1.65           7.14        1.16   \n",
            "166                       1.65           7.14        0.21   \n",
            "\n",
            "                                            MACCS_Keys  \n",
            "0    0000000000000000000000000000000000000000000000...  \n",
            "1    0000000000000000000000000000000000000000000000...  \n",
            "2    0000000000000000000000000000000000000000000000...  \n",
            "3    0000000000000000000000000000000000000000000000...  \n",
            "4    0000000000000000000000000000000000000000000000...  \n",
            "..                                                 ...  \n",
            "162  0000000000000000000000000000000000000000001000...  \n",
            "163  0000000000000000000000000000000000000000000000...  \n",
            "164  0000000000000000000000000000000000000000000000...  \n",
            "165  0000000000000000000000010000000000000000000000...  \n",
            "166  0000000000000000000000010000000000000000000000...  \n",
            "\n",
            "[167 rows x 10 columns]\n"
          ]
        }
      ]
    },
    {
      "cell_type": "code",
      "source": [
        "df.drop(['SMILE_Organic_linker_1'], axis=1, errors='ignore', inplace=True)\n",
        "print(df)"
      ],
      "metadata": {
        "colab": {
          "base_uri": "https://localhost:8080/"
        },
        "id": "SsEt4ITzckMW",
        "outputId": "0fa2f6bd-f5ad-4819-b2d2-2ad2eb042894"
      },
      "execution_count": 31,
      "outputs": [
        {
          "output_type": "stream",
          "name": "stdout",
          "text": [
            "     Surface_Area  Pore_Volume  Pressure  Temperature  Molar_Mass_g_mol  \\\n",
            "0          1270.0         0.71      0.15          298             63.55   \n",
            "1          1270.0         0.71      1.00          298             63.55   \n",
            "2          1270.0         0.71      1.00          313             63.55   \n",
            "3          2833.0         1.04     35.00          298             65.38   \n",
            "4          1568.0         1.07     35.00          298             65.38   \n",
            "..            ...          ...       ...          ...               ...   \n",
            "162         147.0         0.10      1.00          298             63.55   \n",
            "163        2850.0         1.00      1.00          273             63.55   \n",
            "164        2850.0         1.00      0.15          273             63.55   \n",
            "165         704.0         0.28      1.00          298             65.38   \n",
            "166         704.0         0.28      0.15          298             65.38   \n",
            "\n",
            "     Electronegativity_Pauling  Density_g_cm3  CO2 Uptake  \\\n",
            "0                         1.90           8.92        0.86   \n",
            "1                         1.90           8.92        5.27   \n",
            "2                         1.90           8.92        2.91   \n",
            "3                         1.65           7.14       21.70   \n",
            "4                         1.65           7.14       18.70   \n",
            "..                         ...            ...         ...   \n",
            "162                       1.90           8.92        2.11   \n",
            "163                       1.90           8.92        8.75   \n",
            "164                       1.90           8.92        1.83   \n",
            "165                       1.65           7.14        1.16   \n",
            "166                       1.65           7.14        0.21   \n",
            "\n",
            "                                            MACCS_Keys  \n",
            "0    0000000000000000000000000000000000000000000000...  \n",
            "1    0000000000000000000000000000000000000000000000...  \n",
            "2    0000000000000000000000000000000000000000000000...  \n",
            "3    0000000000000000000000000000000000000000000000...  \n",
            "4    0000000000000000000000000000000000000000000000...  \n",
            "..                                                 ...  \n",
            "162  0000000000000000000000000000000000000000001000...  \n",
            "163  0000000000000000000000000000000000000000000000...  \n",
            "164  0000000000000000000000000000000000000000000000...  \n",
            "165  0000000000000000000000010000000000000000000000...  \n",
            "166  0000000000000000000000010000000000000000000000...  \n",
            "\n",
            "[167 rows x 9 columns]\n"
          ]
        }
      ]
    }
  ]
}