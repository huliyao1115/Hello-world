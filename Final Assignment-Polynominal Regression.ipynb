{
  "nbformat": 4,
  "nbformat_minor": 0,
  "metadata": {
    "colab": {
      "provenance": [],
      "authorship_tag": "ABX9TyOAaHQpqYSVXKQjZJkHNmfO",
      "include_colab_link": true
    },
    "kernelspec": {
      "name": "python3",
      "display_name": "Python 3"
    },
    "language_info": {
      "name": "python"
    }
  },
  "cells": [
    {
      "cell_type": "markdown",
      "metadata": {
        "id": "view-in-github",
        "colab_type": "text"
      },
      "source": [
        "<a href=\"https://colab.research.google.com/github/huliyao1115/Hello-world/blob/main/Final%20Assignment-Polynominal%20Regression.ipynb\" target=\"_parent\"><img src=\"https://colab.research.google.com/assets/colab-badge.svg\" alt=\"Open In Colab\"/></a>"
      ]
    },
    {
      "cell_type": "code",
      "execution_count": null,
      "metadata": {
        "id": "WeIPFTs-E4gB"
      },
      "outputs": [],
      "source": [
        "import pandas as pd\n",
        "import numpy as np\n",
        "import matplotlib as plt\n",
        "import seaborn as sns\n",
        "%matploblib inline"
      ]
    },
    {
      "cell_type": "code",
      "source": [
        "Assignment_df = pd.read_csv('Wrong_SMILES_Delete.csv')"
      ],
      "metadata": {
        "id": "g0xu3cZtF3Li"
      },
      "execution_count": null,
      "outputs": []
    },
    {
      "cell_type": "code",
      "source": [
        "df.drop(['Molar_Volume_cm3_mol','Resistivity_Ω_cm','Mohs_Hardness','Specific_Heat_Capacity_J_(g·K)-1','Ionization_Potential_eV','Electrical_Conductivity_MS_m','Thermal_Conductivity_W_m·K','Rayon_Atomique_pm','Electron_Affinity_eV','Boiling_Point_℃','Melting_Point_℃','Atomic_Number','METAL','Atomic_Number','1s', '2s', '2p', '3s', '3p', '3d', '4s', '4p', '4d', '4f', '5s', '5p'], axis=1, errors='ignore', inplace=True)"
      ],
      "metadata": {
        "id": "GUKslTnkGAOw"
      },
      "execution_count": 8,
      "outputs": []
    },
    {
      "cell_type": "code",
      "source": [
        "print(df.columns)\n"
      ],
      "metadata": {
        "colab": {
          "base_uri": "https://localhost:8080/"
        },
        "id": "1ZRtx_JdHZeg",
        "outputId": "2630930d-8e86-45e5-bc45-63b2d880d95f"
      },
      "execution_count": 9,
      "outputs": [
        {
          "output_type": "stream",
          "name": "stdout",
          "text": [
            "Index(['Surface_Area', 'Pore_Volume', 'Pressure', 'Temperature',\n",
            "       'SMILE_Organic_linker_1', 'Molar_Mass_g_mol',\n",
            "       'Electronegativity_Pauling', 'Density_g_cm3', 'CO2 Uptake'],\n",
            "      dtype='object')\n"
          ]
        }
      ]
    },
    {
      "cell_type": "code",
      "source": [
        "df.shape"
      ],
      "metadata": {
        "colab": {
          "base_uri": "https://localhost:8080/"
        },
        "id": "iUsnrj2WMcP6",
        "outputId": "4d279578-7998-47ee-9b44-f9e9e3fe8d5d"
      },
      "execution_count": 10,
      "outputs": [
        {
          "output_type": "execute_result",
          "data": {
            "text/plain": [
              "(166, 9)"
            ]
          },
          "metadata": {},
          "execution_count": 10
        }
      ]
    },
    {
      "cell_type": "code",
      "source": [
        "print(df.dtypes)"
      ],
      "metadata": {
        "colab": {
          "base_uri": "https://localhost:8080/"
        },
        "id": "GV_S-o_MKni1",
        "outputId": "779ea2d0-18f0-406c-ee91-10a06cb0a33a"
      },
      "execution_count": 11,
      "outputs": [
        {
          "output_type": "stream",
          "name": "stdout",
          "text": [
            "Surface_Area                 float64\n",
            "Pore_Volume                  float64\n",
            "Pressure                     float64\n",
            "Temperature                    int64\n",
            "SMILE_Organic_linker_1        object\n",
            "Molar_Mass_g_mol             float64\n",
            "Electronegativity_Pauling    float64\n",
            "Density_g_cm3                float64\n",
            "CO2 Uptake                   float64\n",
            "dtype: object\n"
          ]
        }
      ]
    },
    {
      "cell_type": "code",
      "source": [
        "!pip install rdkit"
      ],
      "metadata": {
        "colab": {
          "base_uri": "https://localhost:8080/"
        },
        "id": "NhOWprUIUMGJ",
        "outputId": "e74d3da8-99ba-4da4-b373-39d37007eadb"
      },
      "execution_count": 12,
      "outputs": [
        {
          "output_type": "stream",
          "name": "stdout",
          "text": [
            "Collecting rdkit\n",
            "  Downloading rdkit-2023.9.6-cp310-cp310-manylinux_2_17_x86_64.manylinux2014_x86_64.whl (34.9 MB)\n",
            "\u001b[2K     \u001b[90m━━━━━━━━━━━━━━━━━━━━━━━━━━━━━━━━━━━━━━━━\u001b[0m \u001b[32m34.9/34.9 MB\u001b[0m \u001b[31m38.5 MB/s\u001b[0m eta \u001b[36m0:00:00\u001b[0m\n",
            "\u001b[?25hRequirement already satisfied: numpy in /usr/local/lib/python3.10/dist-packages (from rdkit) (1.25.2)\n",
            "Requirement already satisfied: Pillow in /usr/local/lib/python3.10/dist-packages (from rdkit) (9.4.0)\n",
            "Installing collected packages: rdkit\n",
            "Successfully installed rdkit-2023.9.6\n"
          ]
        }
      ]
    },
    {
      "cell_type": "code",
      "source": [
        "import pandas as pd\n",
        "from rdkit import Chem\n",
        "from rdkit.Chem import MACCSkeys\n"
      ],
      "metadata": {
        "id": "U_WFtpSRZ3sR"
      },
      "execution_count": 13,
      "outputs": []
    },
    {
      "cell_type": "code",
      "source": [
        "# 函数：将SMILES转换为MACCS键指纹\n",
        "def smiles_to_maccs(smiles):\n",
        "    mol = Chem.MolFromSmiles(smiles)\n",
        "    if mol:\n",
        "        return MACCSkeys.GenMACCSKeys(mol).ToBitString()\n",
        "    else:\n",
        "        return None\n",
        "# 将MACCS键指纹添加到DataFrame中\n",
        "df['MACCS_Keys'] = df['SMILE_Organic_linker_1'].apply(smiles_to_maccs)"
      ],
      "metadata": {
        "id": "PKxxjGm0a3zA"
      },
      "execution_count": 14,
      "outputs": []
    },
    {
      "cell_type": "code",
      "source": [],
      "metadata": {
        "id": "hfCC0q62oyUy"
      },
      "execution_count": 14,
      "outputs": []
    },
    {
      "cell_type": "code",
      "source": [
        "print(df)"
      ],
      "metadata": {
        "colab": {
          "base_uri": "https://localhost:8080/"
        },
        "id": "zKjUKzvSbBsV",
        "outputId": "630bfc79-f201-484a-b4cb-ba022fa5a5df"
      },
      "execution_count": 15,
      "outputs": [
        {
          "output_type": "stream",
          "name": "stdout",
          "text": [
            "     Surface_Area  Pore_Volume  Pressure  Temperature  \\\n",
            "0          1270.0         0.71      0.15          298   \n",
            "1          1270.0         0.71      1.00          298   \n",
            "2          1270.0         0.71      1.00          313   \n",
            "3          2833.0         1.04     35.00          298   \n",
            "4          1568.0         1.07     35.00          298   \n",
            "..            ...          ...       ...          ...   \n",
            "161         147.0         0.10      1.00          298   \n",
            "162        2850.0         1.00      1.00          273   \n",
            "163        2850.0         1.00      0.15          273   \n",
            "164         704.0         0.28      1.00          298   \n",
            "165         704.0         0.28      0.15          298   \n",
            "\n",
            "                                SMILE_Organic_linker_1  Molar_Mass_g_mol  \\\n",
            "0                    OC(=O)C1=CC(=CC(=C1)C(O)=O)C(O)=O             63.55   \n",
            "1                    OC(=O)C1=CC(=CC(=C1)C(O)=O)C(O)=O             63.55   \n",
            "2                    OC(=O)C1=CC(=CC(=C1)C(O)=O)C(O)=O             63.55   \n",
            "3                           C(=O)(C1=CC=C(C=C1)C(=O)O)             65.38   \n",
            "4                         C(=O)(C1=CC(=CC=C1C(=O)O)N)O             65.38   \n",
            "..                                                 ...               ...   \n",
            "161  FC(F)(F)C(C1=CC(=CC=C1)C(=O)O)C2=CC(=CC=C2)C(=O)O             63.55   \n",
            "162           C1=CC=C(C(=C1)C(=O)O)C2=NN=CC(=C2)C(=O)O             63.55   \n",
            "163           C1=CC=C(C(=C1)C(=O)O)C2=NN=CC(=C2)C(=O)O             63.55   \n",
            "164  C1=CC(=CC=C1C2=CC(=C(C=C2)N(C3=CC=C(C=C3)C(=O)...             65.38   \n",
            "165  C1=CC(=CC=C1C2=CC(=C(C=C2)N(C3=CC=C(C=C3)C(=O)...             65.38   \n",
            "\n",
            "     Electronegativity_Pauling  Density_g_cm3  CO2 Uptake  \\\n",
            "0                         1.90           8.92        0.86   \n",
            "1                         1.90           8.92        5.27   \n",
            "2                         1.90           8.92        2.91   \n",
            "3                         1.65           7.14       21.70   \n",
            "4                         1.65           7.14       18.70   \n",
            "..                         ...            ...         ...   \n",
            "161                       1.90           8.92        2.11   \n",
            "162                       1.90           8.92        8.75   \n",
            "163                       1.90           8.92        1.83   \n",
            "164                       1.65           7.14        1.16   \n",
            "165                       1.65           7.14        0.21   \n",
            "\n",
            "                                            MACCS_Keys  \n",
            "0    0000000000000000000000000000000000000000000000...  \n",
            "1    0000000000000000000000000000000000000000000000...  \n",
            "2    0000000000000000000000000000000000000000000000...  \n",
            "3    0000000000000000000000000000000000000000000000...  \n",
            "4    0000000000000000000000000000000000000000000000...  \n",
            "..                                                 ...  \n",
            "161  0000000000000000000000000000000000000000001000...  \n",
            "162  0000000000000000000000000000000000000000000000...  \n",
            "163  0000000000000000000000000000000000000000000000...  \n",
            "164  0000000000000000000000010000000000000000000000...  \n",
            "165  0000000000000000000000010000000000000000000000...  \n",
            "\n",
            "[166 rows x 10 columns]\n"
          ]
        }
      ]
    },
    {
      "cell_type": "code",
      "source": [
        "df.drop(['SMILE_Organic_linker_1'], axis=1, errors='ignore', inplace=True)\n",
        "print(df)"
      ],
      "metadata": {
        "colab": {
          "base_uri": "https://localhost:8080/"
        },
        "id": "SsEt4ITzckMW",
        "outputId": "ddda627d-e88c-413a-afff-7bc7d0e3d8b9"
      },
      "execution_count": 16,
      "outputs": [
        {
          "output_type": "stream",
          "name": "stdout",
          "text": [
            "     Surface_Area  Pore_Volume  Pressure  Temperature  Molar_Mass_g_mol  \\\n",
            "0          1270.0         0.71      0.15          298             63.55   \n",
            "1          1270.0         0.71      1.00          298             63.55   \n",
            "2          1270.0         0.71      1.00          313             63.55   \n",
            "3          2833.0         1.04     35.00          298             65.38   \n",
            "4          1568.0         1.07     35.00          298             65.38   \n",
            "..            ...          ...       ...          ...               ...   \n",
            "161         147.0         0.10      1.00          298             63.55   \n",
            "162        2850.0         1.00      1.00          273             63.55   \n",
            "163        2850.0         1.00      0.15          273             63.55   \n",
            "164         704.0         0.28      1.00          298             65.38   \n",
            "165         704.0         0.28      0.15          298             65.38   \n",
            "\n",
            "     Electronegativity_Pauling  Density_g_cm3  CO2 Uptake  \\\n",
            "0                         1.90           8.92        0.86   \n",
            "1                         1.90           8.92        5.27   \n",
            "2                         1.90           8.92        2.91   \n",
            "3                         1.65           7.14       21.70   \n",
            "4                         1.65           7.14       18.70   \n",
            "..                         ...            ...         ...   \n",
            "161                       1.90           8.92        2.11   \n",
            "162                       1.90           8.92        8.75   \n",
            "163                       1.90           8.92        1.83   \n",
            "164                       1.65           7.14        1.16   \n",
            "165                       1.65           7.14        0.21   \n",
            "\n",
            "                                            MACCS_Keys  \n",
            "0    0000000000000000000000000000000000000000000000...  \n",
            "1    0000000000000000000000000000000000000000000000...  \n",
            "2    0000000000000000000000000000000000000000000000...  \n",
            "3    0000000000000000000000000000000000000000000000...  \n",
            "4    0000000000000000000000000000000000000000000000...  \n",
            "..                                                 ...  \n",
            "161  0000000000000000000000000000000000000000001000...  \n",
            "162  0000000000000000000000000000000000000000000000...  \n",
            "163  0000000000000000000000000000000000000000000000...  \n",
            "164  0000000000000000000000010000000000000000000000...  \n",
            "165  0000000000000000000000010000000000000000000000...  \n",
            "\n",
            "[166 rows x 9 columns]\n"
          ]
        }
      ]
    },
    {
      "cell_type": "code",
      "source": [
        "from sklearn.preprocessing import MinMaxScaler\n",
        "import numpy as np"
      ],
      "metadata": {
        "id": "jBC4jyHYrzvO"
      },
      "execution_count": 33,
      "outputs": []
    },
    {
      "cell_type": "code",
      "source": [
        "features_to_scale = ['Surface_Area', 'Pore_Volume','Pressure','Molar_Mass_g_mol', 'Electronegativity_Pauling','Density_g_cm3','Molar_Volume_cm3_mol']"
      ],
      "metadata": {
        "id": "84uN_SlZtM96"
      },
      "execution_count": 34,
      "outputs": []
    },
    {
      "cell_type": "code",
      "source": [
        "scaler = MinMaxScaler()"
      ],
      "metadata": {
        "id": "FUH7vN8tsORj"
      },
      "execution_count": 45,
      "outputs": []
    },
    {
      "cell_type": "code",
      "source": [
        "mx.fit_transform(df)"
      ],
      "metadata": {
        "id": "2Qm_F8UlsUWX",
        "outputId": "ff4e63e3-a553-4b11-f572-f1f2afe57bd6",
        "colab": {
          "base_uri": "https://localhost:8080/"
        }
      },
      "execution_count": 49,
      "outputs": [
        {
          "output_type": "execute_result",
          "data": {
            "text/plain": [
              "array([[1.84309864e-001, 8.24324324e-002, 9.10746812e-004, ...,\n",
              "        1.00000000e+000, 1.39705882e-002, 9.99001006e-124],\n",
              "       [1.84309864e-001, 8.24324324e-002, 1.63934426e-002, ...,\n",
              "        1.00000000e+000, 9.50367647e-002, 9.99001006e-124],\n",
              "       [1.84309864e-001, 8.24324324e-002, 1.63934426e-002, ...,\n",
              "        1.00000000e+000, 5.16544118e-002, 9.99001006e-124],\n",
              "       ...,\n",
              "       [4.43623831e-001, 1.21621622e-001, 9.10746812e-004, ...,\n",
              "        1.00000000e+000, 3.18014706e-002, 9.99000999e-045],\n",
              "       [9.14163795e-002, 2.43243243e-002, 1.63934426e-002, ...,\n",
              "        7.52089136e-001, 1.94852941e-002, 9.99000999e-016],\n",
              "       [9.14163795e-002, 2.43243243e-002, 9.10746812e-004, ...,\n",
              "        7.52089136e-001, 2.02205882e-003, 9.99000999e-016]])"
            ]
          },
          "metadata": {},
          "execution_count": 49
        }
      ]
    },
    {
      "cell_type": "code",
      "source": [
        "scaler.describe()"
      ],
      "metadata": {
        "id": "8rqeTMFsxjwK",
        "outputId": "6bb22308-e598-4100-a74f-1cd6ae3ea2fe",
        "colab": {
          "base_uri": "https://localhost:8080/",
          "height": 139
        }
      },
      "execution_count": 51,
      "outputs": [
        {
          "output_type": "error",
          "ename": "AttributeError",
          "evalue": "'MinMaxScaler' object has no attribute 'describe'",
          "traceback": [
            "\u001b[0;31m---------------------------------------------------------------------------\u001b[0m",
            "\u001b[0;31mAttributeError\u001b[0m                            Traceback (most recent call last)",
            "\u001b[0;32m<ipython-input-51-ad2f5b379291>\u001b[0m in \u001b[0;36m<cell line: 1>\u001b[0;34m()\u001b[0m\n\u001b[0;32m----> 1\u001b[0;31m \u001b[0mscaler\u001b[0m\u001b[0;34m.\u001b[0m\u001b[0mdescribe\u001b[0m\u001b[0;34m(\u001b[0m\u001b[0;34m)\u001b[0m\u001b[0;34m\u001b[0m\u001b[0;34m\u001b[0m\u001b[0m\n\u001b[0m",
            "\u001b[0;31mAttributeError\u001b[0m: 'MinMaxScaler' object has no attribute 'describe'"
          ]
        }
      ]
    },
    {
      "cell_type": "code",
      "source": [
        "print(\"Original Data:\\n\", df)\n",
        "print(\"Scaled Data:\\n\", scaled_df)"
      ],
      "metadata": {
        "id": "vA27uiqmx6IF"
      },
      "execution_count": null,
      "outputs": []
    }
  ]
}