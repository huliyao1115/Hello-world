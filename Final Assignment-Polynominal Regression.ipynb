{
  "nbformat": 4,
  "nbformat_minor": 0,
  "metadata": {
    "colab": {
      "provenance": [],
      "authorship_tag": "ABX9TyNQfwSbGWhLNyUXqLC912Kb",
      "include_colab_link": true
    },
    "kernelspec": {
      "name": "python3",
      "display_name": "Python 3"
    },
    "language_info": {
      "name": "python"
    }
  },
  "cells": [
    {
      "cell_type": "markdown",
      "metadata": {
        "id": "view-in-github",
        "colab_type": "text"
      },
      "source": [
        "<a href=\"https://colab.research.google.com/github/huliyao1115/Hello-world/blob/main/Final%20Assignment-Polynominal%20Regression.ipynb\" target=\"_parent\"><img src=\"https://colab.research.google.com/assets/colab-badge.svg\" alt=\"Open In Colab\"/></a>"
      ]
    },
    {
      "cell_type": "code",
      "execution_count": 1,
      "metadata": {
        "id": "WeIPFTs-E4gB"
      },
      "outputs": [],
      "source": [
        "import pandas as pd"
      ]
    },
    {
      "cell_type": "code",
      "source": [
        "df = pd.read_csv('Wrong_SMILES_Delete.csv')\n"
      ],
      "metadata": {
        "id": "g0xu3cZtF3Li"
      },
      "execution_count": 9,
      "outputs": []
    },
    {
      "cell_type": "code",
      "source": [
        "df.drop(['Molar_Volume_cm3_mol','Resistivity_Ω_cm','Mohs_Hardness','Specific_Heat_Capacity_J_(g·K)-1','Ionization_Potential_eV','Electrical_Conductivity_MS_m','Thermal_Conductivity_W_m·K','Rayon_Atomique_pm','Electron_Affinity_eV','Boiling_Point_℃','Melting_Point_℃','Atomic_Number','METAL','Atomic_Number','1s', '2s', '2p', '3s', '3p', '3d', '4s', '4p', '4d', '4f', '5s', '5p'], axis=1, errors='ignore', inplace=True)"
      ],
      "metadata": {
        "id": "GUKslTnkGAOw"
      },
      "execution_count": 19,
      "outputs": []
    },
    {
      "cell_type": "code",
      "source": [
        "print(df.columns)\n"
      ],
      "metadata": {
        "colab": {
          "base_uri": "https://localhost:8080/"
        },
        "id": "1ZRtx_JdHZeg",
        "outputId": "6acae152-2632-4d38-8fb2-8498c7be8f4d"
      },
      "execution_count": 20,
      "outputs": [
        {
          "output_type": "stream",
          "name": "stdout",
          "text": [
            "Index(['Surface_Area', 'Pore_Volume', 'Pressure', 'Temperature',\n",
            "       'SMILE_Organic_linker_1', 'Molar_Mass_g_mol',\n",
            "       'Electronegativity_Pauling', 'Density_g_cm3', 'CO2 Uptake'],\n",
            "      dtype='object')\n"
          ]
        }
      ]
    },
    {
      "cell_type": "code",
      "source": [
        "print(df.dtypes)"
      ],
      "metadata": {
        "colab": {
          "base_uri": "https://localhost:8080/"
        },
        "id": "GV_S-o_MKni1",
        "outputId": "822409bd-e44d-4b8a-849f-e1a64a8f160b"
      },
      "execution_count": 21,
      "outputs": [
        {
          "output_type": "stream",
          "name": "stdout",
          "text": [
            "Surface_Area                 float64\n",
            "Pore_Volume                  float64\n",
            "Pressure                     float64\n",
            "Temperature                    int64\n",
            "SMILE_Organic_linker_1        object\n",
            "Molar_Mass_g_mol             float64\n",
            "Electronegativity_Pauling    float64\n",
            "Density_g_cm3                float64\n",
            "CO2 Uptake                   float64\n",
            "dtype: object\n"
          ]
        }
      ]
    }
  ]
}