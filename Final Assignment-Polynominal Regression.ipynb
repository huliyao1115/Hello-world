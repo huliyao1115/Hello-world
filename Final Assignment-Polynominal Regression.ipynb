{
  "nbformat": 4,
  "nbformat_minor": 0,
  "metadata": {
    "colab": {
      "provenance": [],
      "authorship_tag": "ABX9TyMx8Qf9ks7CKG2dmrbNolo/",
      "include_colab_link": true
    },
    "kernelspec": {
      "name": "python3",
      "display_name": "Python 3"
    },
    "language_info": {
      "name": "python"
    }
  },
  "cells": [
    {
      "cell_type": "markdown",
      "metadata": {
        "id": "view-in-github",
        "colab_type": "text"
      },
      "source": [
        "<a href=\"https://colab.research.google.com/github/huliyao1115/Hello-world/blob/main/Final%20Assignment-Polynominal%20Regression.ipynb\" target=\"_parent\"><img src=\"https://colab.research.google.com/assets/colab-badge.svg\" alt=\"Open In Colab\"/></a>"
      ]
    },
    {
      "cell_type": "code",
      "execution_count": 62,
      "metadata": {
        "id": "WeIPFTs-E4gB"
      },
      "outputs": [],
      "source": [
        "import pandas as pd\n",
        "import numpy as np\n",
        "import matplotlib as plt\n",
        "import seaborn as sns\n",
        "from rdkit import Chem\n",
        "from rdkit.Chem import MACCSkeys\n",
        "from sklearn.preprocessing import MinMaxScaler"
      ]
    },
    {
      "cell_type": "code",
      "source": [
        "Assignment_df = pd.read_csv('Wrong_SMILES_Delete.csv')"
      ],
      "metadata": {
        "id": "g0xu3cZtF3Li"
      },
      "execution_count": 53,
      "outputs": []
    },
    {
      "cell_type": "code",
      "source": [],
      "metadata": {
        "id": "ME0fZqToGIvi"
      },
      "execution_count": null,
      "outputs": []
    },
    {
      "cell_type": "code",
      "source": [
        "Assignment_df.drop(['Molar_Volume_cm3_mol','Resistivity_Ω_cm','Mohs_Hardness','Specific_Heat_Capacity_J_(g·K)-1','Ionization_Potential_eV','Electrical_Conductivity_MS_m','Thermal_Conductivity_W_m·K','Rayon_Atomique_pm','Electron_Affinity_eV','Boiling_Point_℃','Melting_Point_℃','Atomic_Number','METAL','Atomic_Number','1s', '2s', '2p', '3s', '3p', '3d', '4s', '4p', '4d', '4f', '5s', '5p'], axis=1, errors='ignore', inplace=True)"
      ],
      "metadata": {
        "id": "GUKslTnkGAOw"
      },
      "execution_count": 54,
      "outputs": []
    },
    {
      "cell_type": "code",
      "source": [
        "print(Assignment_df.columns)\n"
      ],
      "metadata": {
        "colab": {
          "base_uri": "https://localhost:8080/"
        },
        "id": "1ZRtx_JdHZeg",
        "outputId": "32afc434-73b6-476f-da2b-a3136c0849b5"
      },
      "execution_count": 55,
      "outputs": [
        {
          "output_type": "stream",
          "name": "stdout",
          "text": [
            "Index(['Surface_Area', 'Pore_Volume', 'Pressure', 'Temperature',\n",
            "       'SMILE_Organic_linker_1', 'Molar_Mass_g_mol',\n",
            "       'Electronegativity_Pauling', 'Density_g_cm3', 'CO2 Uptake'],\n",
            "      dtype='object')\n"
          ]
        }
      ]
    },
    {
      "cell_type": "code",
      "source": [
        "Assignment_df.shape"
      ],
      "metadata": {
        "colab": {
          "base_uri": "https://localhost:8080/"
        },
        "id": "iUsnrj2WMcP6",
        "outputId": "22ffb35a-0916-44a9-9d96-367c8e7bdf12"
      },
      "execution_count": 56,
      "outputs": [
        {
          "output_type": "execute_result",
          "data": {
            "text/plain": [
              "(166, 9)"
            ]
          },
          "metadata": {},
          "execution_count": 56
        }
      ]
    },
    {
      "cell_type": "code",
      "source": [
        "Assignment_df.describe().round(2)"
      ],
      "metadata": {
        "colab": {
          "base_uri": "https://localhost:8080/",
          "height": 334
        },
        "id": "6zd1cICZGixE",
        "outputId": "a52ee663-8249-4126-8f23-16c3cf5b3386"
      },
      "execution_count": 57,
      "outputs": [
        {
          "output_type": "execute_result",
          "data": {
            "text/plain": [
              "       Surface_Area  Pore_Volume  Pressure  Temperature  Molar_Mass_g_mol  \\\n",
              "count        166.00       166.00    166.00       166.00            166.00   \n",
              "mean        1876.24         1.01      8.48       289.98             63.16   \n",
              "std         1349.32         1.03     13.30        20.94             20.49   \n",
              "min          147.00         0.10      0.10       195.00             24.31   \n",
              "25%          966.00         0.46      1.00       293.00             58.93   \n",
              "50%         1514.00         0.70      1.00       298.00             63.55   \n",
              "75%         2528.00         1.14     17.50       298.00             65.38   \n",
              "max         6240.00         7.50     55.00       318.00            173.05   \n",
              "\n",
              "       Electronegativity_Pauling  Density_g_cm3  CO2 Uptake  \n",
              "count                     166.00         166.00      166.00  \n",
              "mean                        1.71           7.37        8.73  \n",
              "std                         0.21           2.04       11.50  \n",
              "min                         1.10           1.74        0.10  \n",
              "25%                         1.65           7.14        2.01  \n",
              "50%                         1.66           7.19        4.23  \n",
              "75%                         1.90           8.92       10.15  \n",
              "max                         1.91           8.92       54.50  "
            ],
            "text/html": [
              "\n",
              "  <div id=\"df-50a66ab4-c467-422a-91e6-89567568b331\" class=\"colab-df-container\">\n",
              "    <div>\n",
              "<style scoped>\n",
              "    .dataframe tbody tr th:only-of-type {\n",
              "        vertical-align: middle;\n",
              "    }\n",
              "\n",
              "    .dataframe tbody tr th {\n",
              "        vertical-align: top;\n",
              "    }\n",
              "\n",
              "    .dataframe thead th {\n",
              "        text-align: right;\n",
              "    }\n",
              "</style>\n",
              "<table border=\"1\" class=\"dataframe\">\n",
              "  <thead>\n",
              "    <tr style=\"text-align: right;\">\n",
              "      <th></th>\n",
              "      <th>Surface_Area</th>\n",
              "      <th>Pore_Volume</th>\n",
              "      <th>Pressure</th>\n",
              "      <th>Temperature</th>\n",
              "      <th>Molar_Mass_g_mol</th>\n",
              "      <th>Electronegativity_Pauling</th>\n",
              "      <th>Density_g_cm3</th>\n",
              "      <th>CO2 Uptake</th>\n",
              "    </tr>\n",
              "  </thead>\n",
              "  <tbody>\n",
              "    <tr>\n",
              "      <th>count</th>\n",
              "      <td>166.00</td>\n",
              "      <td>166.00</td>\n",
              "      <td>166.00</td>\n",
              "      <td>166.00</td>\n",
              "      <td>166.00</td>\n",
              "      <td>166.00</td>\n",
              "      <td>166.00</td>\n",
              "      <td>166.00</td>\n",
              "    </tr>\n",
              "    <tr>\n",
              "      <th>mean</th>\n",
              "      <td>1876.24</td>\n",
              "      <td>1.01</td>\n",
              "      <td>8.48</td>\n",
              "      <td>289.98</td>\n",
              "      <td>63.16</td>\n",
              "      <td>1.71</td>\n",
              "      <td>7.37</td>\n",
              "      <td>8.73</td>\n",
              "    </tr>\n",
              "    <tr>\n",
              "      <th>std</th>\n",
              "      <td>1349.32</td>\n",
              "      <td>1.03</td>\n",
              "      <td>13.30</td>\n",
              "      <td>20.94</td>\n",
              "      <td>20.49</td>\n",
              "      <td>0.21</td>\n",
              "      <td>2.04</td>\n",
              "      <td>11.50</td>\n",
              "    </tr>\n",
              "    <tr>\n",
              "      <th>min</th>\n",
              "      <td>147.00</td>\n",
              "      <td>0.10</td>\n",
              "      <td>0.10</td>\n",
              "      <td>195.00</td>\n",
              "      <td>24.31</td>\n",
              "      <td>1.10</td>\n",
              "      <td>1.74</td>\n",
              "      <td>0.10</td>\n",
              "    </tr>\n",
              "    <tr>\n",
              "      <th>25%</th>\n",
              "      <td>966.00</td>\n",
              "      <td>0.46</td>\n",
              "      <td>1.00</td>\n",
              "      <td>293.00</td>\n",
              "      <td>58.93</td>\n",
              "      <td>1.65</td>\n",
              "      <td>7.14</td>\n",
              "      <td>2.01</td>\n",
              "    </tr>\n",
              "    <tr>\n",
              "      <th>50%</th>\n",
              "      <td>1514.00</td>\n",
              "      <td>0.70</td>\n",
              "      <td>1.00</td>\n",
              "      <td>298.00</td>\n",
              "      <td>63.55</td>\n",
              "      <td>1.66</td>\n",
              "      <td>7.19</td>\n",
              "      <td>4.23</td>\n",
              "    </tr>\n",
              "    <tr>\n",
              "      <th>75%</th>\n",
              "      <td>2528.00</td>\n",
              "      <td>1.14</td>\n",
              "      <td>17.50</td>\n",
              "      <td>298.00</td>\n",
              "      <td>65.38</td>\n",
              "      <td>1.90</td>\n",
              "      <td>8.92</td>\n",
              "      <td>10.15</td>\n",
              "    </tr>\n",
              "    <tr>\n",
              "      <th>max</th>\n",
              "      <td>6240.00</td>\n",
              "      <td>7.50</td>\n",
              "      <td>55.00</td>\n",
              "      <td>318.00</td>\n",
              "      <td>173.05</td>\n",
              "      <td>1.91</td>\n",
              "      <td>8.92</td>\n",
              "      <td>54.50</td>\n",
              "    </tr>\n",
              "  </tbody>\n",
              "</table>\n",
              "</div>\n",
              "    <div class=\"colab-df-buttons\">\n",
              "\n",
              "  <div class=\"colab-df-container\">\n",
              "    <button class=\"colab-df-convert\" onclick=\"convertToInteractive('df-50a66ab4-c467-422a-91e6-89567568b331')\"\n",
              "            title=\"Convert this dataframe to an interactive table.\"\n",
              "            style=\"display:none;\">\n",
              "\n",
              "  <svg xmlns=\"http://www.w3.org/2000/svg\" height=\"24px\" viewBox=\"0 -960 960 960\">\n",
              "    <path d=\"M120-120v-720h720v720H120Zm60-500h600v-160H180v160Zm220 220h160v-160H400v160Zm0 220h160v-160H400v160ZM180-400h160v-160H180v160Zm440 0h160v-160H620v160ZM180-180h160v-160H180v160Zm440 0h160v-160H620v160Z\"/>\n",
              "  </svg>\n",
              "    </button>\n",
              "\n",
              "  <style>\n",
              "    .colab-df-container {\n",
              "      display:flex;\n",
              "      gap: 12px;\n",
              "    }\n",
              "\n",
              "    .colab-df-convert {\n",
              "      background-color: #E8F0FE;\n",
              "      border: none;\n",
              "      border-radius: 50%;\n",
              "      cursor: pointer;\n",
              "      display: none;\n",
              "      fill: #1967D2;\n",
              "      height: 32px;\n",
              "      padding: 0 0 0 0;\n",
              "      width: 32px;\n",
              "    }\n",
              "\n",
              "    .colab-df-convert:hover {\n",
              "      background-color: #E2EBFA;\n",
              "      box-shadow: 0px 1px 2px rgba(60, 64, 67, 0.3), 0px 1px 3px 1px rgba(60, 64, 67, 0.15);\n",
              "      fill: #174EA6;\n",
              "    }\n",
              "\n",
              "    .colab-df-buttons div {\n",
              "      margin-bottom: 4px;\n",
              "    }\n",
              "\n",
              "    [theme=dark] .colab-df-convert {\n",
              "      background-color: #3B4455;\n",
              "      fill: #D2E3FC;\n",
              "    }\n",
              "\n",
              "    [theme=dark] .colab-df-convert:hover {\n",
              "      background-color: #434B5C;\n",
              "      box-shadow: 0px 1px 3px 1px rgba(0, 0, 0, 0.15);\n",
              "      filter: drop-shadow(0px 1px 2px rgba(0, 0, 0, 0.3));\n",
              "      fill: #FFFFFF;\n",
              "    }\n",
              "  </style>\n",
              "\n",
              "    <script>\n",
              "      const buttonEl =\n",
              "        document.querySelector('#df-50a66ab4-c467-422a-91e6-89567568b331 button.colab-df-convert');\n",
              "      buttonEl.style.display =\n",
              "        google.colab.kernel.accessAllowed ? 'block' : 'none';\n",
              "\n",
              "      async function convertToInteractive(key) {\n",
              "        const element = document.querySelector('#df-50a66ab4-c467-422a-91e6-89567568b331');\n",
              "        const dataTable =\n",
              "          await google.colab.kernel.invokeFunction('convertToInteractive',\n",
              "                                                    [key], {});\n",
              "        if (!dataTable) return;\n",
              "\n",
              "        const docLinkHtml = 'Like what you see? Visit the ' +\n",
              "          '<a target=\"_blank\" href=https://colab.research.google.com/notebooks/data_table.ipynb>data table notebook</a>'\n",
              "          + ' to learn more about interactive tables.';\n",
              "        element.innerHTML = '';\n",
              "        dataTable['output_type'] = 'display_data';\n",
              "        await google.colab.output.renderOutput(dataTable, element);\n",
              "        const docLink = document.createElement('div');\n",
              "        docLink.innerHTML = docLinkHtml;\n",
              "        element.appendChild(docLink);\n",
              "      }\n",
              "    </script>\n",
              "  </div>\n",
              "\n",
              "\n",
              "<div id=\"df-d74f28de-d130-4f6b-947f-d0ad3507baa4\">\n",
              "  <button class=\"colab-df-quickchart\" onclick=\"quickchart('df-d74f28de-d130-4f6b-947f-d0ad3507baa4')\"\n",
              "            title=\"Suggest charts\"\n",
              "            style=\"display:none;\">\n",
              "\n",
              "<svg xmlns=\"http://www.w3.org/2000/svg\" height=\"24px\"viewBox=\"0 0 24 24\"\n",
              "     width=\"24px\">\n",
              "    <g>\n",
              "        <path d=\"M19 3H5c-1.1 0-2 .9-2 2v14c0 1.1.9 2 2 2h14c1.1 0 2-.9 2-2V5c0-1.1-.9-2-2-2zM9 17H7v-7h2v7zm4 0h-2V7h2v10zm4 0h-2v-4h2v4z\"/>\n",
              "    </g>\n",
              "</svg>\n",
              "  </button>\n",
              "\n",
              "<style>\n",
              "  .colab-df-quickchart {\n",
              "      --bg-color: #E8F0FE;\n",
              "      --fill-color: #1967D2;\n",
              "      --hover-bg-color: #E2EBFA;\n",
              "      --hover-fill-color: #174EA6;\n",
              "      --disabled-fill-color: #AAA;\n",
              "      --disabled-bg-color: #DDD;\n",
              "  }\n",
              "\n",
              "  [theme=dark] .colab-df-quickchart {\n",
              "      --bg-color: #3B4455;\n",
              "      --fill-color: #D2E3FC;\n",
              "      --hover-bg-color: #434B5C;\n",
              "      --hover-fill-color: #FFFFFF;\n",
              "      --disabled-bg-color: #3B4455;\n",
              "      --disabled-fill-color: #666;\n",
              "  }\n",
              "\n",
              "  .colab-df-quickchart {\n",
              "    background-color: var(--bg-color);\n",
              "    border: none;\n",
              "    border-radius: 50%;\n",
              "    cursor: pointer;\n",
              "    display: none;\n",
              "    fill: var(--fill-color);\n",
              "    height: 32px;\n",
              "    padding: 0;\n",
              "    width: 32px;\n",
              "  }\n",
              "\n",
              "  .colab-df-quickchart:hover {\n",
              "    background-color: var(--hover-bg-color);\n",
              "    box-shadow: 0 1px 2px rgba(60, 64, 67, 0.3), 0 1px 3px 1px rgba(60, 64, 67, 0.15);\n",
              "    fill: var(--button-hover-fill-color);\n",
              "  }\n",
              "\n",
              "  .colab-df-quickchart-complete:disabled,\n",
              "  .colab-df-quickchart-complete:disabled:hover {\n",
              "    background-color: var(--disabled-bg-color);\n",
              "    fill: var(--disabled-fill-color);\n",
              "    box-shadow: none;\n",
              "  }\n",
              "\n",
              "  .colab-df-spinner {\n",
              "    border: 2px solid var(--fill-color);\n",
              "    border-color: transparent;\n",
              "    border-bottom-color: var(--fill-color);\n",
              "    animation:\n",
              "      spin 1s steps(1) infinite;\n",
              "  }\n",
              "\n",
              "  @keyframes spin {\n",
              "    0% {\n",
              "      border-color: transparent;\n",
              "      border-bottom-color: var(--fill-color);\n",
              "      border-left-color: var(--fill-color);\n",
              "    }\n",
              "    20% {\n",
              "      border-color: transparent;\n",
              "      border-left-color: var(--fill-color);\n",
              "      border-top-color: var(--fill-color);\n",
              "    }\n",
              "    30% {\n",
              "      border-color: transparent;\n",
              "      border-left-color: var(--fill-color);\n",
              "      border-top-color: var(--fill-color);\n",
              "      border-right-color: var(--fill-color);\n",
              "    }\n",
              "    40% {\n",
              "      border-color: transparent;\n",
              "      border-right-color: var(--fill-color);\n",
              "      border-top-color: var(--fill-color);\n",
              "    }\n",
              "    60% {\n",
              "      border-color: transparent;\n",
              "      border-right-color: var(--fill-color);\n",
              "    }\n",
              "    80% {\n",
              "      border-color: transparent;\n",
              "      border-right-color: var(--fill-color);\n",
              "      border-bottom-color: var(--fill-color);\n",
              "    }\n",
              "    90% {\n",
              "      border-color: transparent;\n",
              "      border-bottom-color: var(--fill-color);\n",
              "    }\n",
              "  }\n",
              "</style>\n",
              "\n",
              "  <script>\n",
              "    async function quickchart(key) {\n",
              "      const quickchartButtonEl =\n",
              "        document.querySelector('#' + key + ' button');\n",
              "      quickchartButtonEl.disabled = true;  // To prevent multiple clicks.\n",
              "      quickchartButtonEl.classList.add('colab-df-spinner');\n",
              "      try {\n",
              "        const charts = await google.colab.kernel.invokeFunction(\n",
              "            'suggestCharts', [key], {});\n",
              "      } catch (error) {\n",
              "        console.error('Error during call to suggestCharts:', error);\n",
              "      }\n",
              "      quickchartButtonEl.classList.remove('colab-df-spinner');\n",
              "      quickchartButtonEl.classList.add('colab-df-quickchart-complete');\n",
              "    }\n",
              "    (() => {\n",
              "      let quickchartButtonEl =\n",
              "        document.querySelector('#df-d74f28de-d130-4f6b-947f-d0ad3507baa4 button');\n",
              "      quickchartButtonEl.style.display =\n",
              "        google.colab.kernel.accessAllowed ? 'block' : 'none';\n",
              "    })();\n",
              "  </script>\n",
              "</div>\n",
              "    </div>\n",
              "  </div>\n"
            ],
            "application/vnd.google.colaboratory.intrinsic+json": {
              "type": "dataframe",
              "summary": "{\n  \"name\": \"Assignment_df\",\n  \"rows\": 8,\n  \"fields\": [\n    {\n      \"column\": \"Surface_Area\",\n      \"properties\": {\n        \"dtype\": \"number\",\n        \"std\": 1949.855211503811,\n        \"min\": 147.0,\n        \"max\": 6240.0,\n        \"num_unique_values\": 8,\n        \"samples\": [\n          1876.24,\n          1514.0,\n          166.0\n        ],\n        \"semantic_type\": \"\",\n        \"description\": \"\"\n      }\n    },\n    {\n      \"column\": \"Pore_Volume\",\n      \"properties\": {\n        \"dtype\": \"number\",\n        \"std\": 58.13593890922501,\n        \"min\": 0.1,\n        \"max\": 166.0,\n        \"num_unique_values\": 8,\n        \"samples\": [\n          1.01,\n          0.7,\n          166.0\n        ],\n        \"semantic_type\": \"\",\n        \"description\": \"\"\n      }\n    },\n    {\n      \"column\": \"Pressure\",\n      \"properties\": {\n        \"dtype\": \"number\",\n        \"std\": 56.73579413134432,\n        \"min\": 0.1,\n        \"max\": 166.0,\n        \"num_unique_values\": 7,\n        \"samples\": [\n          166.0,\n          8.48,\n          17.5\n        ],\n        \"semantic_type\": \"\",\n        \"description\": \"\"\n      }\n    },\n    {\n      \"column\": \"Temperature\",\n      \"properties\": {\n        \"dtype\": \"number\",\n        \"std\": 102.39722247907203,\n        \"min\": 20.94,\n        \"max\": 318.0,\n        \"num_unique_values\": 7,\n        \"samples\": [\n          166.0,\n          289.98,\n          298.0\n        ],\n        \"semantic_type\": \"\",\n        \"description\": \"\"\n      }\n    },\n    {\n      \"column\": \"Molar_Mass_g_mol\",\n      \"properties\": {\n        \"dtype\": \"number\",\n        \"std\": 58.43886486565011,\n        \"min\": 20.49,\n        \"max\": 173.05,\n        \"num_unique_values\": 8,\n        \"samples\": [\n          63.16,\n          63.55,\n          166.0\n        ],\n        \"semantic_type\": \"\",\n        \"description\": \"\"\n      }\n    },\n    {\n      \"column\": \"Electronegativity_Pauling\",\n      \"properties\": {\n        \"dtype\": \"number\",\n        \"std\": 58.1804482991126,\n        \"min\": 0.21,\n        \"max\": 166.0,\n        \"num_unique_values\": 8,\n        \"samples\": [\n          1.71,\n          1.66,\n          166.0\n        ],\n        \"semantic_type\": \"\",\n        \"description\": \"\"\n      }\n    },\n    {\n      \"column\": \"Density_g_cm3\",\n      \"properties\": {\n        \"dtype\": \"number\",\n        \"std\": 56.57164458833216,\n        \"min\": 1.74,\n        \"max\": 166.0,\n        \"num_unique_values\": 7,\n        \"samples\": [\n          166.0,\n          7.37,\n          7.19\n        ],\n        \"semantic_type\": \"\",\n        \"description\": \"\"\n      }\n    },\n    {\n      \"column\": \"CO2 Uptake\",\n      \"properties\": {\n        \"dtype\": \"number\",\n        \"std\": 56.807208232255675,\n        \"min\": 0.1,\n        \"max\": 166.0,\n        \"num_unique_values\": 8,\n        \"samples\": [\n          8.73,\n          4.23,\n          166.0\n        ],\n        \"semantic_type\": \"\",\n        \"description\": \"\"\n      }\n    }\n  ]\n}"
            }
          },
          "metadata": {},
          "execution_count": 57
        }
      ]
    },
    {
      "cell_type": "code",
      "source": [
        "print(Assignment_df.dtypes)"
      ],
      "metadata": {
        "colab": {
          "base_uri": "https://localhost:8080/"
        },
        "id": "GV_S-o_MKni1",
        "outputId": "77d33ee8-c79d-46ee-9b30-63832b61d2f6"
      },
      "execution_count": 58,
      "outputs": [
        {
          "output_type": "stream",
          "name": "stdout",
          "text": [
            "Surface_Area                 float64\n",
            "Pore_Volume                  float64\n",
            "Pressure                     float64\n",
            "Temperature                    int64\n",
            "SMILE_Organic_linker_1        object\n",
            "Molar_Mass_g_mol             float64\n",
            "Electronegativity_Pauling    float64\n",
            "Density_g_cm3                float64\n",
            "CO2 Uptake                   float64\n",
            "dtype: object\n"
          ]
        }
      ]
    },
    {
      "cell_type": "code",
      "source": [
        "# 函数：将SMILES转换为MACCS键指纹\n",
        "def smiles_to_maccs(smiles):\n",
        "    mol = Chem.MolFromSmiles(smiles)\n",
        "    if mol:\n",
        "        return MACCSkeys.GenMACCSKeys(mol).ToBitString()\n",
        "    else:\n",
        "        return None\n",
        "# 将MACCS键指纹添加到DataFrame中\n",
        "Assignment_df['MACCS_Keys'] = Assignment_df['SMILE_Organic_linker_1'].apply(smiles_to_maccs)"
      ],
      "metadata": {
        "id": "PKxxjGm0a3zA"
      },
      "execution_count": 60,
      "outputs": []
    },
    {
      "cell_type": "code",
      "source": [
        "Assignment_df.drop(['SMILE_Organic_linker_1'], axis=1, errors='ignore', inplace=True)\n",
        "print(Assignment_df)"
      ],
      "metadata": {
        "colab": {
          "base_uri": "https://localhost:8080/"
        },
        "id": "SsEt4ITzckMW",
        "outputId": "e8c0074d-8237-4e7b-9c55-eeafbbdfe3c6"
      },
      "execution_count": 61,
      "outputs": [
        {
          "output_type": "stream",
          "name": "stdout",
          "text": [
            "     Surface_Area  Pore_Volume  Pressure  Temperature  Molar_Mass_g_mol  \\\n",
            "0          1270.0         0.71      0.15          298             63.55   \n",
            "1          1270.0         0.71      1.00          298             63.55   \n",
            "2          1270.0         0.71      1.00          313             63.55   \n",
            "3          2833.0         1.04     35.00          298             65.38   \n",
            "4          1568.0         1.07     35.00          298             65.38   \n",
            "..            ...          ...       ...          ...               ...   \n",
            "161         147.0         0.10      1.00          298             63.55   \n",
            "162        2850.0         1.00      1.00          273             63.55   \n",
            "163        2850.0         1.00      0.15          273             63.55   \n",
            "164         704.0         0.28      1.00          298             65.38   \n",
            "165         704.0         0.28      0.15          298             65.38   \n",
            "\n",
            "     Electronegativity_Pauling  Density_g_cm3  CO2 Uptake  \\\n",
            "0                         1.90           8.92        0.86   \n",
            "1                         1.90           8.92        5.27   \n",
            "2                         1.90           8.92        2.91   \n",
            "3                         1.65           7.14       21.70   \n",
            "4                         1.65           7.14       18.70   \n",
            "..                         ...            ...         ...   \n",
            "161                       1.90           8.92        2.11   \n",
            "162                       1.90           8.92        8.75   \n",
            "163                       1.90           8.92        1.83   \n",
            "164                       1.65           7.14        1.16   \n",
            "165                       1.65           7.14        0.21   \n",
            "\n",
            "                                            MACCS_Keys  \n",
            "0    0000000000000000000000000000000000000000000000...  \n",
            "1    0000000000000000000000000000000000000000000000...  \n",
            "2    0000000000000000000000000000000000000000000000...  \n",
            "3    0000000000000000000000000000000000000000000000...  \n",
            "4    0000000000000000000000000000000000000000000000...  \n",
            "..                                                 ...  \n",
            "161  0000000000000000000000000000000000000000001000...  \n",
            "162  0000000000000000000000000000000000000000000000...  \n",
            "163  0000000000000000000000000000000000000000000000...  \n",
            "164  0000000000000000000000010000000000000000000000...  \n",
            "165  0000000000000000000000010000000000000000000000...  \n",
            "\n",
            "[166 rows x 9 columns]\n"
          ]
        }
      ]
    },
    {
      "cell_type": "code",
      "source": [
        "print(Assignment_df.dtypes)"
      ],
      "metadata": {
        "id": "jBC4jyHYrzvO",
        "colab": {
          "base_uri": "https://localhost:8080/"
        },
        "outputId": "1dc45b32-7a5b-4474-91ac-3ad7ce648e5d"
      },
      "execution_count": 63,
      "outputs": [
        {
          "output_type": "stream",
          "name": "stdout",
          "text": [
            "Surface_Area                 float64\n",
            "Pore_Volume                  float64\n",
            "Pressure                     float64\n",
            "Temperature                    int64\n",
            "Molar_Mass_g_mol             float64\n",
            "Electronegativity_Pauling    float64\n",
            "Density_g_cm3                float64\n",
            "CO2 Uptake                   float64\n",
            "MACCS_Keys                    object\n",
            "dtype: object\n"
          ]
        }
      ]
    },
    {
      "cell_type": "code",
      "source": [
        "features_to_scale = ['Surface_Area', 'Pore_Volume', 'Pressure', 'Temperature', 'Molar_Mass_g_mol', 'Electronegativity_Pauling', 'Density_g_cm3']\n",
        "scaler = MinMaxScaler()\n",
        "## Scale the specified columns and convert to DataFrame\n",
        "scaled_data = scaler.fit_transform(Assignment_df[features_to_scale])\n"
      ],
      "metadata": {
        "id": "3zM4YfOzRq_S"
      },
      "execution_count": 64,
      "outputs": []
    },
    {
      "cell_type": "code",
      "source": [
        "# Concatenate original DataFrame with scaled DataFrame\n",
        "scaled_df = pd.DataFrame(scaled_data, columns=features_to_scale)\n",
        "print(scaled_df)\n"
      ],
      "metadata": {
        "id": "eJwZZfuzRyyj",
        "outputId": "6f958aab-3770-499d-dcc5-b34be757b06e",
        "colab": {
          "base_uri": "https://localhost:8080/"
        }
      },
      "execution_count": 77,
      "outputs": [
        {
          "output_type": "stream",
          "name": "stdout",
          "text": [
            "     Surface_Area  Pore_Volume  Pressure  Temperature  Molar_Mass_g_mol  \\\n",
            "0        0.184310     0.082432  0.000911     0.837398          0.263816   \n",
            "1        0.184310     0.082432  0.016393     0.837398          0.263816   \n",
            "2        0.184310     0.082432  0.016393     0.959350          0.263816   \n",
            "3        0.440834     0.127027  0.635701     0.837398          0.276119   \n",
            "4        0.233218     0.131081  0.635701     0.837398          0.276119   \n",
            "..            ...          ...       ...          ...               ...   \n",
            "161      0.000000     0.000000  0.016393     0.837398          0.263816   \n",
            "162      0.443624     0.121622  0.016393     0.634146          0.263816   \n",
            "163      0.443624     0.121622  0.000911     0.634146          0.263816   \n",
            "164      0.091416     0.024324  0.016393     0.837398          0.276119   \n",
            "165      0.091416     0.024324  0.000911     0.837398          0.276119   \n",
            "\n",
            "     Electronegativity_Pauling  Density_g_cm3  \n",
            "0                     0.987654       1.000000  \n",
            "1                     0.987654       1.000000  \n",
            "2                     0.987654       1.000000  \n",
            "3                     0.679012       0.752089  \n",
            "4                     0.679012       0.752089  \n",
            "..                         ...            ...  \n",
            "161                   0.987654       1.000000  \n",
            "162                   0.987654       1.000000  \n",
            "163                   0.987654       1.000000  \n",
            "164                   0.679012       0.752089  \n",
            "165                   0.679012       0.752089  \n",
            "\n",
            "[166 rows x 7 columns]\n"
          ]
        }
      ]
    },
    {
      "cell_type": "code",
      "source": [],
      "metadata": {
        "id": "AFSNFwA-R4aQ",
        "outputId": "f74548bf-aaa7-4ade-8269-b42be274f960",
        "colab": {
          "base_uri": "https://localhost:8080/"
        }
      },
      "execution_count": 74,
      "outputs": [
        {
          "output_type": "stream",
          "name": "stdout",
          "text": [
            "     Surface_Area  Pore_Volume  Pressure  Temperature  Molar_Mass_g_mol  \\\n",
            "0        0.184310     0.082432  0.000911     0.837398          0.263816   \n",
            "1        0.184310     0.082432  0.016393     0.837398          0.263816   \n",
            "2        0.184310     0.082432  0.016393     0.959350          0.263816   \n",
            "3        0.440834     0.127027  0.635701     0.837398          0.276119   \n",
            "4        0.233218     0.131081  0.635701     0.837398          0.276119   \n",
            "..            ...          ...       ...          ...               ...   \n",
            "161      0.000000     0.000000  0.016393     0.837398          0.263816   \n",
            "162      0.443624     0.121622  0.016393     0.634146          0.263816   \n",
            "163      0.443624     0.121622  0.000911     0.634146          0.263816   \n",
            "164      0.091416     0.024324  0.016393     0.837398          0.276119   \n",
            "165      0.091416     0.024324  0.000911     0.837398          0.276119   \n",
            "\n",
            "     Electronegativity_Pauling  Density_g_cm3  \n",
            "0                     0.987654       1.000000  \n",
            "1                     0.987654       1.000000  \n",
            "2                     0.987654       1.000000  \n",
            "3                     0.679012       0.752089  \n",
            "4                     0.679012       0.752089  \n",
            "..                         ...            ...  \n",
            "161                   0.987654       1.000000  \n",
            "162                   0.987654       1.000000  \n",
            "163                   0.987654       1.000000  \n",
            "164                   0.679012       0.752089  \n",
            "165                   0.679012       0.752089  \n",
            "\n",
            "[166 rows x 7 columns]\n"
          ]
        }
      ]
    },
    {
      "cell_type": "code",
      "source": [
        "merged_df = pd.concat([Assignment_df, scaled_df], axis=1)\n",
        "print(merged_df)\n"
      ],
      "metadata": {
        "id": "2Qm_F8UlsUWX",
        "outputId": "f47793d5-b7ec-4880-b82b-f8ed506945fd",
        "colab": {
          "base_uri": "https://localhost:8080/"
        }
      },
      "execution_count": 76,
      "outputs": [
        {
          "output_type": "stream",
          "name": "stdout",
          "text": [
            "     Surface_Area  Pore_Volume  Pressure  Temperature  Molar_Mass_g_mol  \\\n",
            "0          1270.0         0.71      0.15          298             63.55   \n",
            "1          1270.0         0.71      1.00          298             63.55   \n",
            "2          1270.0         0.71      1.00          313             63.55   \n",
            "3          2833.0         1.04     35.00          298             65.38   \n",
            "4          1568.0         1.07     35.00          298             65.38   \n",
            "..            ...          ...       ...          ...               ...   \n",
            "161         147.0         0.10      1.00          298             63.55   \n",
            "162        2850.0         1.00      1.00          273             63.55   \n",
            "163        2850.0         1.00      0.15          273             63.55   \n",
            "164         704.0         0.28      1.00          298             65.38   \n",
            "165         704.0         0.28      0.15          298             65.38   \n",
            "\n",
            "     Electronegativity_Pauling  Density_g_cm3  CO2 Uptake  \\\n",
            "0                         1.90           8.92        0.86   \n",
            "1                         1.90           8.92        5.27   \n",
            "2                         1.90           8.92        2.91   \n",
            "3                         1.65           7.14       21.70   \n",
            "4                         1.65           7.14       18.70   \n",
            "..                         ...            ...         ...   \n",
            "161                       1.90           8.92        2.11   \n",
            "162                       1.90           8.92        8.75   \n",
            "163                       1.90           8.92        1.83   \n",
            "164                       1.65           7.14        1.16   \n",
            "165                       1.65           7.14        0.21   \n",
            "\n",
            "                                            MACCS_Keys  Surface_Area  \\\n",
            "0    0000000000000000000000000000000000000000000000...      0.184310   \n",
            "1    0000000000000000000000000000000000000000000000...      0.184310   \n",
            "2    0000000000000000000000000000000000000000000000...      0.184310   \n",
            "3    0000000000000000000000000000000000000000000000...      0.440834   \n",
            "4    0000000000000000000000000000000000000000000000...      0.233218   \n",
            "..                                                 ...           ...   \n",
            "161  0000000000000000000000000000000000000000001000...      0.000000   \n",
            "162  0000000000000000000000000000000000000000000000...      0.443624   \n",
            "163  0000000000000000000000000000000000000000000000...      0.443624   \n",
            "164  0000000000000000000000010000000000000000000000...      0.091416   \n",
            "165  0000000000000000000000010000000000000000000000...      0.091416   \n",
            "\n",
            "     Pore_Volume  Pressure  Temperature  Molar_Mass_g_mol  \\\n",
            "0       0.082432  0.000911     0.837398          0.263816   \n",
            "1       0.082432  0.016393     0.837398          0.263816   \n",
            "2       0.082432  0.016393     0.959350          0.263816   \n",
            "3       0.127027  0.635701     0.837398          0.276119   \n",
            "4       0.131081  0.635701     0.837398          0.276119   \n",
            "..           ...       ...          ...               ...   \n",
            "161     0.000000  0.016393     0.837398          0.263816   \n",
            "162     0.121622  0.016393     0.634146          0.263816   \n",
            "163     0.121622  0.000911     0.634146          0.263816   \n",
            "164     0.024324  0.016393     0.837398          0.276119   \n",
            "165     0.024324  0.000911     0.837398          0.276119   \n",
            "\n",
            "     Electronegativity_Pauling  Density_g_cm3  \n",
            "0                     0.987654       1.000000  \n",
            "1                     0.987654       1.000000  \n",
            "2                     0.987654       1.000000  \n",
            "3                     0.679012       0.752089  \n",
            "4                     0.679012       0.752089  \n",
            "..                         ...            ...  \n",
            "161                   0.987654       1.000000  \n",
            "162                   0.987654       1.000000  \n",
            "163                   0.987654       1.000000  \n",
            "164                   0.679012       0.752089  \n",
            "165                   0.679012       0.752089  \n",
            "\n",
            "[166 rows x 16 columns]\n"
          ]
        }
      ]
    },
    {
      "cell_type": "code",
      "source": [],
      "metadata": {
        "id": "8rqeTMFsxjwK",
        "outputId": "6bb22308-e598-4100-a74f-1cd6ae3ea2fe",
        "colab": {
          "base_uri": "https://localhost:8080/",
          "height": 139
        }
      },
      "execution_count": null,
      "outputs": [
        {
          "output_type": "error",
          "ename": "AttributeError",
          "evalue": "'MinMaxScaler' object has no attribute 'describe'",
          "traceback": [
            "\u001b[0;31m---------------------------------------------------------------------------\u001b[0m",
            "\u001b[0;31mAttributeError\u001b[0m                            Traceback (most recent call last)",
            "\u001b[0;32m<ipython-input-51-ad2f5b379291>\u001b[0m in \u001b[0;36m<cell line: 1>\u001b[0;34m()\u001b[0m\n\u001b[0;32m----> 1\u001b[0;31m \u001b[0mscaler\u001b[0m\u001b[0;34m.\u001b[0m\u001b[0mdescribe\u001b[0m\u001b[0;34m(\u001b[0m\u001b[0;34m)\u001b[0m\u001b[0;34m\u001b[0m\u001b[0;34m\u001b[0m\u001b[0m\n\u001b[0m",
            "\u001b[0;31mAttributeError\u001b[0m: 'MinMaxScaler' object has no attribute 'describe'"
          ]
        }
      ]
    },
    {
      "cell_type": "code",
      "source": [
        "print(\"Original Data:\\n\", df)\n",
        "print(\"Scaled Data:\\n\", scaled_df)"
      ],
      "metadata": {
        "id": "vA27uiqmx6IF"
      },
      "execution_count": null,
      "outputs": []
    }
  ]
}