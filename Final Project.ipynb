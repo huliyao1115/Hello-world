{
  "nbformat": 4,
  "nbformat_minor": 0,
  "metadata": {
    "colab": {
      "provenance": [],
      "authorship_tag": "ABX9TyNm8jvRxTmBQcVutQcQSvVf",
      "include_colab_link": true
    },
    "kernelspec": {
      "name": "python3",
      "display_name": "Python 3"
    },
    "language_info": {
      "name": "python"
    }
  },
  "cells": [
    {
      "cell_type": "markdown",
      "metadata": {
        "id": "view-in-github",
        "colab_type": "text"
      },
      "source": [
        "<a href=\"https://colab.research.google.com/github/huliyao1115/Hello-world/blob/main/Final%20Project.ipynb\" target=\"_parent\"><img src=\"https://colab.research.google.com/assets/colab-badge.svg\" alt=\"Open In Colab\"/></a>"
      ]
    },
    {
      "cell_type": "code",
      "execution_count": 2,
      "metadata": {
        "id": "2kGallh__1ee"
      },
      "outputs": [],
      "source": [
        "import pandas as pd\n",
        "\n"
      ]
    },
    {
      "cell_type": "code",
      "source": [
        "df = pd.read_csv('/content/assignment_data.csv')\n",
        "print(df)"
      ],
      "metadata": {
        "colab": {
          "base_uri": "https://localhost:8080/"
        },
        "id": "ykW-W4KE_5gk",
        "outputId": "956b2c53-7eb9-4ea1-b214-ca22ed00f0ad"
      },
      "execution_count": 3,
      "outputs": [
        {
          "output_type": "stream",
          "name": "stdout",
          "text": [
            "     Surface_Area  Pore_Volume  Pressure  Temperature METAL  \\\n",
            "0          1270.0         0.71      0.15          298    Cu   \n",
            "1          1270.0         0.71      1.00          298    Cu   \n",
            "2          1270.0         0.71      1.00          313    Cu   \n",
            "3          2833.0         1.04     35.00          298    Zn   \n",
            "4          1568.0         1.07     35.00          298    Zn   \n",
            "..            ...          ...       ...          ...   ...   \n",
            "231         147.0         0.10      1.00          298    Cu   \n",
            "232        2850.0         1.00      1.00          273    Cu   \n",
            "233        2850.0         1.00      0.15          273    Cu   \n",
            "234         704.0         0.28      1.00          298    Zn   \n",
            "235         704.0         0.28      0.15          298    Zn   \n",
            "\n",
            "                                SMILE_Organic_linker_1  Atomic_Number  \\\n",
            "0                    OC(=O)C1=CC(=CC(=C1)C(O)=O)C(O)=O             29   \n",
            "1                    OC(=O)C1=CC(=CC(=C1)C(O)=O)C(O)=O             29   \n",
            "2                    OC(=O)C1=CC(=CC(=C1)C(O)=O)C(O)=O             29   \n",
            "3                           C(=O)(C1=CC=C(C=C1)C(=O)O)             30   \n",
            "4                         C(=O)(C1=CC(=CC=C1C(=O)O)N)O             30   \n",
            "..                                                 ...            ...   \n",
            "231  FC(F)(F)C(C1=CC(=CC=C1)C(=O)O)C2=CC(=CC=C2)C(=O)O             29   \n",
            "232           C1=CC=C(C(=C1)C(=O)O)C2=NN=CC(=C2)C(=O)O             29   \n",
            "233           C1=CC=C(C(=C1)C(=O)O)C2=NN=CC(=C2)C(=O)O             29   \n",
            "234  C1=CC(=CC=C1C2=CC(=C(C=C2)N(C3=CC=C(C=C3)C(=O)...             30   \n",
            "235  C1=CC(=CC=C1C2=CC(=C(C=C2)N(C3=CC=C(C=C3)C(=O)...             30   \n",
            "\n",
            "     Molar_Mass_g_mol  Melting_Point_℃  Boiling_Point_℃  ...  3s  3p  3d  4s  \\\n",
            "0               63.55           1085.0             2562  ...   2   6  10   1   \n",
            "1               63.55           1085.0             2562  ...   2   6  10   1   \n",
            "2               63.55           1085.0             2562  ...   2   6  10   1   \n",
            "3               65.38            419.5              907  ...   2   6  10   2   \n",
            "4               65.38            419.5              907  ...   2   6  10   2   \n",
            "..                ...              ...              ...  ...  ..  ..  ..  ..   \n",
            "231             63.55           1085.0             2562  ...   2   6  10   1   \n",
            "232             63.55           1085.0             2562  ...   2   6  10   1   \n",
            "233             63.55           1085.0             2562  ...   2   6  10   1   \n",
            "234             65.38            419.5              907  ...   2   6  10   2   \n",
            "235             65.38            419.5              907  ...   2   6  10   2   \n",
            "\n",
            "     4p  4d  4f  5s  5p  CO2 Uptake  \n",
            "0     0   0   0   0   0        0.86  \n",
            "1     0   0   0   0   0        5.27  \n",
            "2     0   0   0   0   0        2.91  \n",
            "3     0   0   0   0   0       21.70  \n",
            "4     0   0   0   0   0       18.70  \n",
            "..   ..  ..  ..  ..  ..         ...  \n",
            "231   0   0   0   0   0        2.11  \n",
            "232   0   0   0   0   0        8.75  \n",
            "233   0   0   0   0   0        1.83  \n",
            "234   0   0   0   0   0        1.16  \n",
            "235   0   0   0   0   0        0.21  \n",
            "\n",
            "[236 rows x 34 columns]\n"
          ]
        }
      ]
    },
    {
      "cell_type": "code",
      "source": [
        "df.head(5)"
      ],
      "metadata": {
        "id": "DFzU9qguGbMe",
        "outputId": "5594d832-94d9-483a-aab0-384d53414798",
        "colab": {
          "base_uri": "https://localhost:8080/",
          "height": 270
        }
      },
      "execution_count": 4,
      "outputs": [
        {
          "output_type": "execute_result",
          "data": {
            "text/plain": [
              "   Surface_Area  Pore_Volume  Pressure  Temperature METAL  \\\n",
              "0        1270.0         0.71      0.15          298    Cu   \n",
              "1        1270.0         0.71      1.00          298    Cu   \n",
              "2        1270.0         0.71      1.00          313    Cu   \n",
              "3        2833.0         1.04     35.00          298    Zn   \n",
              "4        1568.0         1.07     35.00          298    Zn   \n",
              "\n",
              "              SMILE_Organic_linker_1  Atomic_Number  Molar_Mass_g_mol  \\\n",
              "0  OC(=O)C1=CC(=CC(=C1)C(O)=O)C(O)=O             29             63.55   \n",
              "1  OC(=O)C1=CC(=CC(=C1)C(O)=O)C(O)=O             29             63.55   \n",
              "2  OC(=O)C1=CC(=CC(=C1)C(O)=O)C(O)=O             29             63.55   \n",
              "3         C(=O)(C1=CC=C(C=C1)C(=O)O)             30             65.38   \n",
              "4       C(=O)(C1=CC(=CC=C1C(=O)O)N)O             30             65.38   \n",
              "\n",
              "   Melting_Point_℃  Boiling_Point_℃  ...  3s  3p  3d  4s  4p  4d  4f  5s  5p  \\\n",
              "0           1085.0             2562  ...   2   6  10   1   0   0   0   0   0   \n",
              "1           1085.0             2562  ...   2   6  10   1   0   0   0   0   0   \n",
              "2           1085.0             2562  ...   2   6  10   1   0   0   0   0   0   \n",
              "3            419.5              907  ...   2   6  10   2   0   0   0   0   0   \n",
              "4            419.5              907  ...   2   6  10   2   0   0   0   0   0   \n",
              "\n",
              "   CO2 Uptake  \n",
              "0        0.86  \n",
              "1        5.27  \n",
              "2        2.91  \n",
              "3       21.70  \n",
              "4       18.70  \n",
              "\n",
              "[5 rows x 34 columns]"
            ],
            "text/html": [
              "\n",
              "  <div id=\"df-8b2f082e-7093-49db-a39c-6eb6d698509a\" class=\"colab-df-container\">\n",
              "    <div>\n",
              "<style scoped>\n",
              "    .dataframe tbody tr th:only-of-type {\n",
              "        vertical-align: middle;\n",
              "    }\n",
              "\n",
              "    .dataframe tbody tr th {\n",
              "        vertical-align: top;\n",
              "    }\n",
              "\n",
              "    .dataframe thead th {\n",
              "        text-align: right;\n",
              "    }\n",
              "</style>\n",
              "<table border=\"1\" class=\"dataframe\">\n",
              "  <thead>\n",
              "    <tr style=\"text-align: right;\">\n",
              "      <th></th>\n",
              "      <th>Surface_Area</th>\n",
              "      <th>Pore_Volume</th>\n",
              "      <th>Pressure</th>\n",
              "      <th>Temperature</th>\n",
              "      <th>METAL</th>\n",
              "      <th>SMILE_Organic_linker_1</th>\n",
              "      <th>Atomic_Number</th>\n",
              "      <th>Molar_Mass_g_mol</th>\n",
              "      <th>Melting_Point_℃</th>\n",
              "      <th>Boiling_Point_℃</th>\n",
              "      <th>...</th>\n",
              "      <th>3s</th>\n",
              "      <th>3p</th>\n",
              "      <th>3d</th>\n",
              "      <th>4s</th>\n",
              "      <th>4p</th>\n",
              "      <th>4d</th>\n",
              "      <th>4f</th>\n",
              "      <th>5s</th>\n",
              "      <th>5p</th>\n",
              "      <th>CO2 Uptake</th>\n",
              "    </tr>\n",
              "  </thead>\n",
              "  <tbody>\n",
              "    <tr>\n",
              "      <th>0</th>\n",
              "      <td>1270.0</td>\n",
              "      <td>0.71</td>\n",
              "      <td>0.15</td>\n",
              "      <td>298</td>\n",
              "      <td>Cu</td>\n",
              "      <td>OC(=O)C1=CC(=CC(=C1)C(O)=O)C(O)=O</td>\n",
              "      <td>29</td>\n",
              "      <td>63.55</td>\n",
              "      <td>1085.0</td>\n",
              "      <td>2562</td>\n",
              "      <td>...</td>\n",
              "      <td>2</td>\n",
              "      <td>6</td>\n",
              "      <td>10</td>\n",
              "      <td>1</td>\n",
              "      <td>0</td>\n",
              "      <td>0</td>\n",
              "      <td>0</td>\n",
              "      <td>0</td>\n",
              "      <td>0</td>\n",
              "      <td>0.86</td>\n",
              "    </tr>\n",
              "    <tr>\n",
              "      <th>1</th>\n",
              "      <td>1270.0</td>\n",
              "      <td>0.71</td>\n",
              "      <td>1.00</td>\n",
              "      <td>298</td>\n",
              "      <td>Cu</td>\n",
              "      <td>OC(=O)C1=CC(=CC(=C1)C(O)=O)C(O)=O</td>\n",
              "      <td>29</td>\n",
              "      <td>63.55</td>\n",
              "      <td>1085.0</td>\n",
              "      <td>2562</td>\n",
              "      <td>...</td>\n",
              "      <td>2</td>\n",
              "      <td>6</td>\n",
              "      <td>10</td>\n",
              "      <td>1</td>\n",
              "      <td>0</td>\n",
              "      <td>0</td>\n",
              "      <td>0</td>\n",
              "      <td>0</td>\n",
              "      <td>0</td>\n",
              "      <td>5.27</td>\n",
              "    </tr>\n",
              "    <tr>\n",
              "      <th>2</th>\n",
              "      <td>1270.0</td>\n",
              "      <td>0.71</td>\n",
              "      <td>1.00</td>\n",
              "      <td>313</td>\n",
              "      <td>Cu</td>\n",
              "      <td>OC(=O)C1=CC(=CC(=C1)C(O)=O)C(O)=O</td>\n",
              "      <td>29</td>\n",
              "      <td>63.55</td>\n",
              "      <td>1085.0</td>\n",
              "      <td>2562</td>\n",
              "      <td>...</td>\n",
              "      <td>2</td>\n",
              "      <td>6</td>\n",
              "      <td>10</td>\n",
              "      <td>1</td>\n",
              "      <td>0</td>\n",
              "      <td>0</td>\n",
              "      <td>0</td>\n",
              "      <td>0</td>\n",
              "      <td>0</td>\n",
              "      <td>2.91</td>\n",
              "    </tr>\n",
              "    <tr>\n",
              "      <th>3</th>\n",
              "      <td>2833.0</td>\n",
              "      <td>1.04</td>\n",
              "      <td>35.00</td>\n",
              "      <td>298</td>\n",
              "      <td>Zn</td>\n",
              "      <td>C(=O)(C1=CC=C(C=C1)C(=O)O)</td>\n",
              "      <td>30</td>\n",
              "      <td>65.38</td>\n",
              "      <td>419.5</td>\n",
              "      <td>907</td>\n",
              "      <td>...</td>\n",
              "      <td>2</td>\n",
              "      <td>6</td>\n",
              "      <td>10</td>\n",
              "      <td>2</td>\n",
              "      <td>0</td>\n",
              "      <td>0</td>\n",
              "      <td>0</td>\n",
              "      <td>0</td>\n",
              "      <td>0</td>\n",
              "      <td>21.70</td>\n",
              "    </tr>\n",
              "    <tr>\n",
              "      <th>4</th>\n",
              "      <td>1568.0</td>\n",
              "      <td>1.07</td>\n",
              "      <td>35.00</td>\n",
              "      <td>298</td>\n",
              "      <td>Zn</td>\n",
              "      <td>C(=O)(C1=CC(=CC=C1C(=O)O)N)O</td>\n",
              "      <td>30</td>\n",
              "      <td>65.38</td>\n",
              "      <td>419.5</td>\n",
              "      <td>907</td>\n",
              "      <td>...</td>\n",
              "      <td>2</td>\n",
              "      <td>6</td>\n",
              "      <td>10</td>\n",
              "      <td>2</td>\n",
              "      <td>0</td>\n",
              "      <td>0</td>\n",
              "      <td>0</td>\n",
              "      <td>0</td>\n",
              "      <td>0</td>\n",
              "      <td>18.70</td>\n",
              "    </tr>\n",
              "  </tbody>\n",
              "</table>\n",
              "<p>5 rows × 34 columns</p>\n",
              "</div>\n",
              "    <div class=\"colab-df-buttons\">\n",
              "\n",
              "  <div class=\"colab-df-container\">\n",
              "    <button class=\"colab-df-convert\" onclick=\"convertToInteractive('df-8b2f082e-7093-49db-a39c-6eb6d698509a')\"\n",
              "            title=\"Convert this dataframe to an interactive table.\"\n",
              "            style=\"display:none;\">\n",
              "\n",
              "  <svg xmlns=\"http://www.w3.org/2000/svg\" height=\"24px\" viewBox=\"0 -960 960 960\">\n",
              "    <path d=\"M120-120v-720h720v720H120Zm60-500h600v-160H180v160Zm220 220h160v-160H400v160Zm0 220h160v-160H400v160ZM180-400h160v-160H180v160Zm440 0h160v-160H620v160ZM180-180h160v-160H180v160Zm440 0h160v-160H620v160Z\"/>\n",
              "  </svg>\n",
              "    </button>\n",
              "\n",
              "  <style>\n",
              "    .colab-df-container {\n",
              "      display:flex;\n",
              "      gap: 12px;\n",
              "    }\n",
              "\n",
              "    .colab-df-convert {\n",
              "      background-color: #E8F0FE;\n",
              "      border: none;\n",
              "      border-radius: 50%;\n",
              "      cursor: pointer;\n",
              "      display: none;\n",
              "      fill: #1967D2;\n",
              "      height: 32px;\n",
              "      padding: 0 0 0 0;\n",
              "      width: 32px;\n",
              "    }\n",
              "\n",
              "    .colab-df-convert:hover {\n",
              "      background-color: #E2EBFA;\n",
              "      box-shadow: 0px 1px 2px rgba(60, 64, 67, 0.3), 0px 1px 3px 1px rgba(60, 64, 67, 0.15);\n",
              "      fill: #174EA6;\n",
              "    }\n",
              "\n",
              "    .colab-df-buttons div {\n",
              "      margin-bottom: 4px;\n",
              "    }\n",
              "\n",
              "    [theme=dark] .colab-df-convert {\n",
              "      background-color: #3B4455;\n",
              "      fill: #D2E3FC;\n",
              "    }\n",
              "\n",
              "    [theme=dark] .colab-df-convert:hover {\n",
              "      background-color: #434B5C;\n",
              "      box-shadow: 0px 1px 3px 1px rgba(0, 0, 0, 0.15);\n",
              "      filter: drop-shadow(0px 1px 2px rgba(0, 0, 0, 0.3));\n",
              "      fill: #FFFFFF;\n",
              "    }\n",
              "  </style>\n",
              "\n",
              "    <script>\n",
              "      const buttonEl =\n",
              "        document.querySelector('#df-8b2f082e-7093-49db-a39c-6eb6d698509a button.colab-df-convert');\n",
              "      buttonEl.style.display =\n",
              "        google.colab.kernel.accessAllowed ? 'block' : 'none';\n",
              "\n",
              "      async function convertToInteractive(key) {\n",
              "        const element = document.querySelector('#df-8b2f082e-7093-49db-a39c-6eb6d698509a');\n",
              "        const dataTable =\n",
              "          await google.colab.kernel.invokeFunction('convertToInteractive',\n",
              "                                                    [key], {});\n",
              "        if (!dataTable) return;\n",
              "\n",
              "        const docLinkHtml = 'Like what you see? Visit the ' +\n",
              "          '<a target=\"_blank\" href=https://colab.research.google.com/notebooks/data_table.ipynb>data table notebook</a>'\n",
              "          + ' to learn more about interactive tables.';\n",
              "        element.innerHTML = '';\n",
              "        dataTable['output_type'] = 'display_data';\n",
              "        await google.colab.output.renderOutput(dataTable, element);\n",
              "        const docLink = document.createElement('div');\n",
              "        docLink.innerHTML = docLinkHtml;\n",
              "        element.appendChild(docLink);\n",
              "      }\n",
              "    </script>\n",
              "  </div>\n",
              "\n",
              "\n",
              "<div id=\"df-617bb805-eb2c-4b3d-88b6-ecf226fd6de8\">\n",
              "  <button class=\"colab-df-quickchart\" onclick=\"quickchart('df-617bb805-eb2c-4b3d-88b6-ecf226fd6de8')\"\n",
              "            title=\"Suggest charts\"\n",
              "            style=\"display:none;\">\n",
              "\n",
              "<svg xmlns=\"http://www.w3.org/2000/svg\" height=\"24px\"viewBox=\"0 0 24 24\"\n",
              "     width=\"24px\">\n",
              "    <g>\n",
              "        <path d=\"M19 3H5c-1.1 0-2 .9-2 2v14c0 1.1.9 2 2 2h14c1.1 0 2-.9 2-2V5c0-1.1-.9-2-2-2zM9 17H7v-7h2v7zm4 0h-2V7h2v10zm4 0h-2v-4h2v4z\"/>\n",
              "    </g>\n",
              "</svg>\n",
              "  </button>\n",
              "\n",
              "<style>\n",
              "  .colab-df-quickchart {\n",
              "      --bg-color: #E8F0FE;\n",
              "      --fill-color: #1967D2;\n",
              "      --hover-bg-color: #E2EBFA;\n",
              "      --hover-fill-color: #174EA6;\n",
              "      --disabled-fill-color: #AAA;\n",
              "      --disabled-bg-color: #DDD;\n",
              "  }\n",
              "\n",
              "  [theme=dark] .colab-df-quickchart {\n",
              "      --bg-color: #3B4455;\n",
              "      --fill-color: #D2E3FC;\n",
              "      --hover-bg-color: #434B5C;\n",
              "      --hover-fill-color: #FFFFFF;\n",
              "      --disabled-bg-color: #3B4455;\n",
              "      --disabled-fill-color: #666;\n",
              "  }\n",
              "\n",
              "  .colab-df-quickchart {\n",
              "    background-color: var(--bg-color);\n",
              "    border: none;\n",
              "    border-radius: 50%;\n",
              "    cursor: pointer;\n",
              "    display: none;\n",
              "    fill: var(--fill-color);\n",
              "    height: 32px;\n",
              "    padding: 0;\n",
              "    width: 32px;\n",
              "  }\n",
              "\n",
              "  .colab-df-quickchart:hover {\n",
              "    background-color: var(--hover-bg-color);\n",
              "    box-shadow: 0 1px 2px rgba(60, 64, 67, 0.3), 0 1px 3px 1px rgba(60, 64, 67, 0.15);\n",
              "    fill: var(--button-hover-fill-color);\n",
              "  }\n",
              "\n",
              "  .colab-df-quickchart-complete:disabled,\n",
              "  .colab-df-quickchart-complete:disabled:hover {\n",
              "    background-color: var(--disabled-bg-color);\n",
              "    fill: var(--disabled-fill-color);\n",
              "    box-shadow: none;\n",
              "  }\n",
              "\n",
              "  .colab-df-spinner {\n",
              "    border: 2px solid var(--fill-color);\n",
              "    border-color: transparent;\n",
              "    border-bottom-color: var(--fill-color);\n",
              "    animation:\n",
              "      spin 1s steps(1) infinite;\n",
              "  }\n",
              "\n",
              "  @keyframes spin {\n",
              "    0% {\n",
              "      border-color: transparent;\n",
              "      border-bottom-color: var(--fill-color);\n",
              "      border-left-color: var(--fill-color);\n",
              "    }\n",
              "    20% {\n",
              "      border-color: transparent;\n",
              "      border-left-color: var(--fill-color);\n",
              "      border-top-color: var(--fill-color);\n",
              "    }\n",
              "    30% {\n",
              "      border-color: transparent;\n",
              "      border-left-color: var(--fill-color);\n",
              "      border-top-color: var(--fill-color);\n",
              "      border-right-color: var(--fill-color);\n",
              "    }\n",
              "    40% {\n",
              "      border-color: transparent;\n",
              "      border-right-color: var(--fill-color);\n",
              "      border-top-color: var(--fill-color);\n",
              "    }\n",
              "    60% {\n",
              "      border-color: transparent;\n",
              "      border-right-color: var(--fill-color);\n",
              "    }\n",
              "    80% {\n",
              "      border-color: transparent;\n",
              "      border-right-color: var(--fill-color);\n",
              "      border-bottom-color: var(--fill-color);\n",
              "    }\n",
              "    90% {\n",
              "      border-color: transparent;\n",
              "      border-bottom-color: var(--fill-color);\n",
              "    }\n",
              "  }\n",
              "</style>\n",
              "\n",
              "  <script>\n",
              "    async function quickchart(key) {\n",
              "      const quickchartButtonEl =\n",
              "        document.querySelector('#' + key + ' button');\n",
              "      quickchartButtonEl.disabled = true;  // To prevent multiple clicks.\n",
              "      quickchartButtonEl.classList.add('colab-df-spinner');\n",
              "      try {\n",
              "        const charts = await google.colab.kernel.invokeFunction(\n",
              "            'suggestCharts', [key], {});\n",
              "      } catch (error) {\n",
              "        console.error('Error during call to suggestCharts:', error);\n",
              "      }\n",
              "      quickchartButtonEl.classList.remove('colab-df-spinner');\n",
              "      quickchartButtonEl.classList.add('colab-df-quickchart-complete');\n",
              "    }\n",
              "    (() => {\n",
              "      let quickchartButtonEl =\n",
              "        document.querySelector('#df-617bb805-eb2c-4b3d-88b6-ecf226fd6de8 button');\n",
              "      quickchartButtonEl.style.display =\n",
              "        google.colab.kernel.accessAllowed ? 'block' : 'none';\n",
              "    })();\n",
              "  </script>\n",
              "</div>\n",
              "    </div>\n",
              "  </div>\n"
            ],
            "application/vnd.google.colaboratory.intrinsic+json": {
              "type": "dataframe",
              "variable_name": "df"
            }
          },
          "metadata": {},
          "execution_count": 4
        }
      ]
    },
    {
      "cell_type": "code",
      "source": [
        "df.columns"
      ],
      "metadata": {
        "colab": {
          "base_uri": "https://localhost:8080/"
        },
        "id": "4a75rAxKAt9W",
        "outputId": "bb632fa2-3cc6-4ae4-b33b-c98a5ed38678"
      },
      "execution_count": null,
      "outputs": [
        {
          "output_type": "execute_result",
          "data": {
            "text/plain": [
              "Index(['Surface_Area', 'Pore_Volume', 'Pressure', 'Temperature', 'METAL',\n",
              "       'SMILE_Organic_linker_1', 'Atomic_Number', 'Molar_Mass_g_mol',\n",
              "       'Melting_Point_℃', 'Boiling_Point_℃', 'Electronegativity_Pauling',\n",
              "       'Electron_Affinity_eV', 'Density_g_cm3', 'Rayon_Atomique_pm',\n",
              "       'Thermal_Conductivity_W_m·K', 'Electrical_Conductivity_MS_m',\n",
              "       'Ionization_Potential_eV', 'Molar_Volume_cm3_mol',\n",
              "       'Specific_Heat_Capacity_J_(g·K)-1', 'Mohs_Hardness', 'Resistivity_Ω_cm',\n",
              "       '1s', '2s', '2p', '3s', '3p', '3d', '4s', '4p', '4d', '4f', '5s', '5p',\n",
              "       'CO2 Uptake'],\n",
              "      dtype='object')"
            ]
          },
          "metadata": {},
          "execution_count": 4
        }
      ]
    },
    {
      "cell_type": "code",
      "source": [
        "df.isna().sum()"
      ],
      "metadata": {
        "colab": {
          "base_uri": "https://localhost:8080/"
        },
        "id": "zJNDJvgjBgj8",
        "outputId": "18e37749-de4c-4571-c729-fb26cd942150"
      },
      "execution_count": null,
      "outputs": [
        {
          "output_type": "execute_result",
          "data": {
            "text/plain": [
              "Surface_Area                        0\n",
              "Pore_Volume                         0\n",
              "Pressure                            0\n",
              "Temperature                         0\n",
              "METAL                               0\n",
              "SMILE_Organic_linker_1              0\n",
              "Atomic_Number                       0\n",
              "Molar_Mass_g_mol                    0\n",
              "Melting_Point_℃                     0\n",
              "Boiling_Point_℃                     0\n",
              "Electronegativity_Pauling           0\n",
              "Electron_Affinity_eV                0\n",
              "Density_g_cm3                       0\n",
              "Rayon_Atomique_pm                   0\n",
              "Thermal_Conductivity_W_m·K          0\n",
              "Electrical_Conductivity_MS_m        0\n",
              "Ionization_Potential_eV             0\n",
              "Molar_Volume_cm3_mol                0\n",
              "Specific_Heat_Capacity_J_(g·K)-1    0\n",
              "Mohs_Hardness                       0\n",
              "Resistivity_Ω_cm                    0\n",
              "1s                                  0\n",
              "2s                                  0\n",
              "2p                                  0\n",
              "3s                                  0\n",
              "3p                                  0\n",
              "3d                                  0\n",
              "4s                                  0\n",
              "4p                                  0\n",
              "4d                                  0\n",
              "4f                                  0\n",
              "5s                                  0\n",
              "5p                                  0\n",
              "CO2 Uptake                          0\n",
              "dtype: int64"
            ]
          },
          "metadata": {},
          "execution_count": 6
        }
      ]
    },
    {
      "cell_type": "code",
      "source": [
        "df.duplicated()"
      ],
      "metadata": {
        "colab": {
          "base_uri": "https://localhost:8080/"
        },
        "id": "CrThQs7DBoD9",
        "outputId": "c0ffcc06-bf08-4c6e-8434-e631ab0bb82a"
      },
      "execution_count": null,
      "outputs": [
        {
          "output_type": "execute_result",
          "data": {
            "text/plain": [
              "0      False\n",
              "1      False\n",
              "2      False\n",
              "3      False\n",
              "4      False\n",
              "       ...  \n",
              "231    False\n",
              "232    False\n",
              "233    False\n",
              "234    False\n",
              "235    False\n",
              "Length: 236, dtype: bool"
            ]
          },
          "metadata": {},
          "execution_count": 8
        }
      ]
    },
    {
      "cell_type": "markdown",
      "source": [
        "Draw histogram for above data"
      ],
      "metadata": {
        "id": "XaN78UjwIsDe"
      }
    },
    {
      "cell_type": "code",
      "source": [
        "import matplotlib.pyplot as plt\n",
        "\n",
        "df.hist(bins=50, figsize=(12, 8))\n",
        "plt.show()"
      ],
      "metadata": {
        "colab": {
          "base_uri": "https://localhost:8080/",
          "height": 685
        },
        "id": "t2zxQCcdBw7-",
        "outputId": "79dae382-f093-4c82-9ec0-ad76b8048f70"
      },
      "execution_count": null,
      "outputs": [
        {
          "output_type": "display_data",
          "data": {
            "text/plain": [
              "<Figure size 1200x800 with 36 Axes>"
            ],
            "image/png": "[encoded data removed]"
          },
          "metadata": {}
        }
      ]
    },
    {
      "cell_type": "code",
      "source": [
        "import numpy as np\n",
        "\n",
        "def shuffle_and_split_data(data, test_ratio):\n",
        "    shuffled_indices = np.random.permutation(len(data))\n",
        "    test_set_size = int(len(data) * test_ratio)\n",
        "    test_indices = shuffled_indices[:test_set_size]\n",
        "    train_indices = shuffled_indices[test_set_size:]\n",
        "    return data.iloc[train_indices], data.iloc[test_indices]"
      ],
      "metadata": {
        "id": "-e4IEiG9PfPx"
      },
      "execution_count": null,
      "outputs": []
    },
    {
      "cell_type": "code",
      "source": [
        "train_set, test_set = shuffle_and_split_data(df, 0.2)\n",
        "len(train_set)\n"
      ],
      "metadata": {
        "colab": {
          "base_uri": "https://localhost:8080/"
        },
        "id": "DS08VcodPgnj",
        "outputId": "c215f9b7-e8c3-404f-ca3c-6fd03180d210"
      },
      "execution_count": null,
      "outputs": [
        {
          "output_type": "execute_result",
          "data": {
            "text/plain": [
              "189"
            ]
          },
          "metadata": {},
          "execution_count": 13
        }
      ]
    },
    {
      "cell_type": "code",
      "source": [
        "len(test_set)"
      ],
      "metadata": {
        "colab": {
          "base_uri": "https://localhost:8080/"
        },
        "id": "NcCaMG0LPu4Y",
        "outputId": "cca45c9b-c298-40f0-9476-3b2c668b6681"
      },
      "execution_count": null,
      "outputs": [
        {
          "output_type": "execute_result",
          "data": {
            "text/plain": [
              "47"
            ]
          },
          "metadata": {},
          "execution_count": 14
        }
      ]
    }
  ]
}