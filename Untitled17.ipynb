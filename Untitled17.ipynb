{
  "nbformat": 4,
  "nbformat_minor": 0,
  "metadata": {
    "colab": {
      "provenance": [],
      "authorship_tag": "ABX9TyMJhsf3maH0AlinXxNlw5wT",
      "include_colab_link": true
    },
    "kernelspec": {
      "name": "python3",
      "display_name": "Python 3"
    },
    "language_info": {
      "name": "python"
    }
  },
  "cells": [
    {
      "cell_type": "markdown",
      "metadata": {
        "id": "view-in-github",
        "colab_type": "text"
      },
      "source": [
        "<a href=\"https://colab.research.google.com/github/huliyao1115/Hello-world/blob/main/Untitled17.ipynb\" target=\"_parent\"><img src=\"https://colab.research.google.com/assets/colab-badge.svg\" alt=\"Open In Colab\"/></a>"
      ]
    },
    {
      "cell_type": "code",
      "execution_count": 39,
      "metadata": {
        "id": "uSnEPl_JwfWo",
        "colab": {
          "base_uri": "https://localhost:8080/",
          "height": 655
        },
        "outputId": "8129ad35-29f7-4685-fc6a-8fcb9c00396c"
      },
      "outputs": [
        {
          "output_type": "error",
          "ename": "AttributeError",
          "evalue": "ignored",
          "traceback": [
            "\u001b[0;31m---------------------------------------------------------------------------\u001b[0m",
            "\u001b[0;31mAttributeError\u001b[0m                            Traceback (most recent call last)",
            "\u001b[0;32m<ipython-input-39-1a0717afa305>\u001b[0m in \u001b[0;36m<cell line: 32>\u001b[0;34m()\u001b[0m\n\u001b[1;32m     30\u001b[0m \u001b[0mplt\u001b[0m\u001b[0;34m.\u001b[0m\u001b[0mplot\u001b[0m\u001b[0;34m(\u001b[0m\u001b[0mr\u001b[0m\u001b[0;34m,\u001b[0m\u001b[0mU\u001b[0m\u001b[0;34m,\u001b[0m\u001b[0;34m'k'\u001b[0m\u001b[0;34m,\u001b[0m\u001b[0mlw\u001b[0m\u001b[0;34m=\u001b[0m\u001b[0;36m2\u001b[0m\u001b[0;34m,\u001b[0m\u001b[0mlabel\u001b[0m\u001b[0;34m=\u001b[0m\u001b[0;34m'Lennard-Jones'\u001b[0m\u001b[0;34m)\u001b[0m\u001b[0;34m\u001b[0m\u001b[0;34m\u001b[0m\u001b[0m\n\u001b[1;32m     31\u001b[0m \u001b[0;34m\u001b[0m\u001b[0m\n\u001b[0;32m---> 32\u001b[0;31m \u001b[0mplt\u001b[0m\u001b[0;34m.\u001b[0m\u001b[0mplot\u001b[0m\u001b[0;34m(\u001b[0m\u001b[0mr\u001b[0m\u001b[0;34m.\u001b[0m\u001b[0mV\u001b[0m\u001b[0;34m,\u001b[0m\u001b[0mlabel\u001b[0m\u001b[0;34m=\u001b[0m\u001b[0;34m'Harmonic approximation'\u001b[0m\u001b[0;34m)\u001b[0m\u001b[0;34m\u001b[0m\u001b[0;34m\u001b[0m\u001b[0m\n\u001b[0m\u001b[1;32m     33\u001b[0m \u001b[0;34m\u001b[0m\u001b[0m\n\u001b[1;32m     34\u001b[0m \u001b[0mplt\u001b[0m\u001b[0;34m.\u001b[0m\u001b[0mxlim\u001b[0m\u001b[0;34m(\u001b[0m\u001b[0;36m0.5\u001b[0m\u001b[0;34m,\u001b[0m\u001b[0;36m20\u001b[0m\u001b[0;34m)\u001b[0m\u001b[0;34m\u001b[0m\u001b[0;34m\u001b[0m\u001b[0m\n",
            "\u001b[0;31mAttributeError\u001b[0m: 'numpy.ndarray' object has no attribute 'V'"
          ]
        },
        {
          "output_type": "display_data",
          "data": {
            "text/plain": [
              "<Figure size 640x480 with 1 Axes>"
            ],
            "image/png": "[encoded data removed]"
          },
          "metadata": {}
        }
      ],
      "source": [
        "import numpy as np\n",
        "import matplotlib.pyplot as plt\n",
        "\n",
        "\n",
        "# Boltzmann's constant, J/K\n",
        "kB = 1.381e-23\n",
        "\n",
        "# The Lennard-Jones parameters:\n",
        "A =1.024e-23 # J.nm^6\n",
        "B =1.582e-26 # J.nm^12\n",
        "\n",
        "\n",
        "# Adjust the units of A and B - they have more manageable values in K·nm^6 and K·nm^12\n",
        "\n",
        "result_A = A/kB\n",
        "result_B = B/kB\n",
        "\n",
        "r0= 1\n",
        "epsilon= 1\n",
        "\n",
        "# Interatomic distance, in nm\n",
        "r= np. linspace(start=0.5,stop=50,num=500)\n",
        "\n",
        "# Interatomic potential\n",
        "k=156*result_B/r0**14 - 42*result_A/r0**8\n",
        "\n",
        "V=0.5*k*(r-r0)**2+epsilon\n",
        "\n",
        "\n",
        "plt.plot(r,U,'k',lw=2,label='Lennard-Jones')\n",
        "\n",
        "plt.plot(r.V,label='Harmonic approximation')\n",
        "\n",
        "plt.xlim(0.5,20)\n",
        "plt.ylim(-500,500)\n",
        "plt.xlabel('r/nm')\n",
        "plt.ylabel('Potential energy / K')\n",
        "\n",
        "plt.legend9(loc=4)\n",
        "plt.show()\n",
        "import numpy as np\n",
        "import matplotlib.pyplot as plt\n",
        "\n",
        "\n",
        "# Boltzmann's constant, J/K\n",
        "kB = 1.381e-23\n",
        "\n",
        "# The Lennard-Jones parameters:\n",
        "A =1.024e-23 # J.nm^6\n",
        "B =1.582e-26 # J.nm^12\n",
        "\n",
        "\n",
        "# Adjust the units of A and B - they have more manageable values in K·nm^6 and K·nm^12\n",
        "\n",
        "result_A = A/kB\n",
        "result_B = B/kB\n",
        "\n",
        "r0= 2\n",
        "epsilon= 2\n",
        "\n",
        "# Interatomic distance, in nm\n",
        "r= np. linspace(start=0.5,stop=50,num=500)\n",
        "\n",
        "# Interatomic potential\n",
        "k=156*result_B/r0**14 - 42*result_A/r0**8\n",
        "\n",
        "V=0.5*k*(r-r0)**2+epsilon\n",
        "\n",
        "\n",
        "\n",
        "plt.plot(r,V)\n",
        "\n",
        "plt.xlim(0.5,100)\n",
        "plt.ylim(0,20)\n",
        "plt.xlabel('r/nm')\n",
        "plt.ylabel('Potential energy / K')\n",
        "\n",
        "plt.legend9(loc=4)\n",
        "plt.show()"
      ]
    }
  ]
}