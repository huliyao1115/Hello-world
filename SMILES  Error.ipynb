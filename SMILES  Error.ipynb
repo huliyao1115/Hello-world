{
  "nbformat": 4,
  "nbformat_minor": 0,
  "metadata": {
    "colab": {
      "provenance": [],
      "toc_visible": true,
      "authorship_tag": "ABX9TyOvhqD6MciEhV6PUGXDBIJk",
      "include_colab_link": true
    },
    "kernelspec": {
      "name": "python3",
      "display_name": "Python 3"
    },
    "language_info": {
      "name": "python"
    }
  },
  "cells": [
    {
      "cell_type": "markdown",
      "metadata": {
        "id": "view-in-github",
        "colab_type": "text"
      },
      "source": [
        "<a href=\"https://colab.research.google.com/github/huliyao1115/Hello-world/blob/main/SMILES%20%20Error.ipynb\" target=\"_parent\"><img src=\"https://colab.research.google.com/assets/colab-badge.svg\" alt=\"Open In Colab\"/></a>"
      ]
    },
    {
      "cell_type": "code",
      "execution_count": 1,
      "metadata": {
        "id": "nwgCfq3ZEwWb"
      },
      "outputs": [],
      "source": [
        "import pandas as pd"
      ]
    },
    {
      "cell_type": "code",
      "source": [
        "df = pd.read_csv('/content/assignment_data.csv')\n"
      ],
      "metadata": {
        "id": "-qixorm5E7_T"
      },
      "execution_count": 3,
      "outputs": []
    },
    {
      "cell_type": "code",
      "source": [
        "from rdkit import Chem"
      ],
      "metadata": {
        "id": "omkV98z_FECc"
      },
      "execution_count": 5,
      "outputs": []
    },
    {
      "cell_type": "code",
      "source": [
        "# Initialize a list to store invalid SMILES and their indices\n",
        "invalid_smiles = []"
      ],
      "metadata": {
        "id": "-RQRaKq3FOlt"
      },
      "execution_count": 6,
      "outputs": []
    },
    {
      "cell_type": "code",
      "source": [
        "# Check the validity of each SMILES in each row of the data\n",
        "for idx, row in df.iterrows():\n",
        "    smiles = row[\"SMILE_Organic_linker_1\"]\n",
        "    try:\n",
        "        mol = Chem.MolFromSmiles(smiles)\n",
        "        if mol is None:\n",
        "            invalid_smiles.append((idx, smiles))\n",
        "    except:\n",
        "        invalid_smiles.append((idx, smiles))\n"
      ],
      "metadata": {
        "colab": {
          "base_uri": "https://localhost:8080/"
        },
        "id": "MVbYHd0SFQ_r",
        "outputId": "feecd41b-0997-450e-c8bb-e5cf7c39b0ca"
      },
      "execution_count": 7,
      "outputs": [
        {
          "output_type": "stream",
          "name": "stderr",
          "text": [
            "[16:11:24] SMILES Parse Error: syntax error while parsing: C1=CC=C(C=C1)C2=NC3=NC=C(N3C4=NC=C(C=C4)C5=C(C=CC(=C5)Cl)O)C=C2,Cl,Cl\n",
            "[16:11:24] SMILES Parse Error: Failed parsing SMILES 'C1=CC=C(C=C1)C2=NC3=NC=C(N3C4=NC=C(C=C4)C5=C(C=CC(=C5)Cl)O)C=C2,Cl,Cl' for input: 'C1=CC=C(C=C1)C2=NC3=NC=C(N3C4=NC=C(C=C4)C5=C(C=CC(=C5)Cl)O)C=C2,Cl,Cl'\n",
            "[16:11:24] SMILES Parse Error: syntax error while parsing: C1=CC=C(C=C1)C2=NC3=NC=C(N3C4=NC=C(C=C4)C5=C(C=CC(=C5)Cl)O)C=C2,Cl,Cl\n",
            "[16:11:24] SMILES Parse Error: Failed parsing SMILES 'C1=CC=C(C=C1)C2=NC3=NC=C(N3C4=NC=C(C=C4)C5=C(C=CC(=C5)Cl)O)C=C2,Cl,Cl' for input: 'C1=CC=C(C=C1)C2=NC3=NC=C(N3C4=NC=C(C=C4)C5=C(C=CC(=C5)Cl)O)C=C2,Cl,Cl'\n",
            "[16:11:24] SMILES Parse Error: unclosed ring for input: 'C1=CC=C(C=C1)C2=C3C(=C(C=C2)C(=O)O)N=N4'\n",
            "[16:11:24] SMILES Parse Error: syntax error while parsing: C1=CC(=CC=C1C2=NC3=CC=CC=C3S2)C(=O)O,C1=CC(=CC=C1C2=NC3=CC=CC=C3S2)C(=O)O\n",
            "[16:11:24] SMILES Parse Error: Failed parsing SMILES 'C1=CC(=CC=C1C2=NC3=CC=CC=C3S2)C(=O)O,C1=CC(=CC=C1C2=NC3=CC=CC=C3S2)C(=O)O' for input: 'C1=CC(=CC=C1C2=NC3=CC=CC=C3S2)C(=O)O,C1=CC(=CC=C1C2=NC3=CC=CC=C3S2)C(=O)O'\n",
            "[16:11:24] SMILES Parse Error: syntax error while parsing: C1=CC(=CC=C1C2=NC3=CC=CC=C3S2)C(=O)O,C1=CC(=CC=C1C2=NC3=CC=CC=C3S2)C(=O)O\n",
            "[16:11:24] SMILES Parse Error: Failed parsing SMILES 'C1=CC(=CC=C1C2=NC3=CC=CC=C3S2)C(=O)O,C1=CC(=CC=C1C2=NC3=CC=CC=C3S2)C(=O)O' for input: 'C1=CC(=CC=C1C2=NC3=CC=CC=C3S2)C(=O)O,C1=CC(=CC=C1C2=NC3=CC=CC=C3S2)C(=O)O'\n",
            "[16:11:24] SMILES Parse Error: syntax error while parsing: C1=CC(=CC=C1C2=NC3=CC=CC=C3S2)C(=O)O,C1=CC(=CC=C1C2=NC3=CC=CC=C3S2)C(=O)O\n",
            "[16:11:24] SMILES Parse Error: Failed parsing SMILES 'C1=CC(=CC=C1C2=NC3=CC=CC=C3S2)C(=O)O,C1=CC(=CC=C1C2=NC3=CC=CC=C3S2)C(=O)O' for input: 'C1=CC(=CC=C1C2=NC3=CC=CC=C3S2)C(=O)O,C1=CC(=CC=C1C2=NC3=CC=CC=C3S2)C(=O)O'\n",
            "[16:11:24] SMILES Parse Error: syntax error while parsing: C1=CC(=CC=C1C2=NNC3=CC=CC=C3Se2)C(=O)O,C1=CC(=CC=C1C2=NNC3=CC=CC=C3Se2)C(=O)O\n",
            "[16:11:24] SMILES Parse Error: Failed parsing SMILES 'C1=CC(=CC=C1C2=NNC3=CC=CC=C3Se2)C(=O)O,C1=CC(=CC=C1C2=NNC3=CC=CC=C3Se2)C(=O)O' for input: 'C1=CC(=CC=C1C2=NNC3=CC=CC=C3Se2)C(=O)O,C1=CC(=CC=C1C2=NNC3=CC=CC=C3Se2)C(=O)O'\n",
            "[16:11:24] SMILES Parse Error: syntax error while parsing: C1=CC(=CC=C1C2=NNC3=CC=CC=C3Se2)C(=O)O,C1=CC(=CC=C1C2=NNC3=CC=CC=C3Se2)C(=O)O\n",
            "[16:11:24] SMILES Parse Error: Failed parsing SMILES 'C1=CC(=CC=C1C2=NNC3=CC=CC=C3Se2)C(=O)O,C1=CC(=CC=C1C2=NNC3=CC=CC=C3Se2)C(=O)O' for input: 'C1=CC(=CC=C1C2=NNC3=CC=CC=C3Se2)C(=O)O,C1=CC(=CC=C1C2=NNC3=CC=CC=C3Se2)C(=O)O'\n",
            "[16:11:24] SMILES Parse Error: syntax error while parsing: CC1=CC(=CC=C1C2=CC(=C(C=C2)C(=O)O)C(=O)O)N+[O-]\n",
            "[16:11:24] SMILES Parse Error: Failed parsing SMILES 'CC1=CC(=CC=C1C2=CC(=C(C=C2)C(=O)O)C(=O)O)N+[O-]' for input: 'CC1=CC(=CC=C1C2=CC(=C(C=C2)C(=O)O)C(=O)O)N+[O-]'\n",
            "[16:11:24] SMILES Parse Error: syntax error while parsing: CC1=CC(=CC=C1C2=CC(=C(C=C2)C(=O)O)C(=O)O)N+[O-]\n",
            "[16:11:24] SMILES Parse Error: Failed parsing SMILES 'CC1=CC(=CC=C1C2=CC(=C(C=C2)C(=O)O)C(=O)O)N+[O-]' for input: 'CC1=CC(=CC=C1C2=CC(=C(C=C2)C(=O)O)C(=O)O)N+[O-]'\n",
            "[16:11:24] SMILES Parse Error: unclosed ring for input: 'C1=CC=C(C=C1)C(=O)C2=C'\n",
            "[16:11:24] SMILES Parse Error: unclosed ring for input: 'C1=CC=C(C=C1)C(=O)C2=C'\n",
            "[16:11:24] SMILES Parse Error: ring closure 1 duplicates bond between atom 88 and atom 93 for input: 'C1=CC(=CC=C1C2=CC(=C(C=C2C#CC3=CC(=CC(=C3)C#CC4=CC=C(C=C4)C#CC5=CC(=CC(=C5)C(=O)O)C#CC6=CC=CC=C6C(=O)O)C#CC7=CC=CC=C7C(=O)O)C#CC8=CC(=CC(=C8)C(=O)O)C(=O)O)C#CC9=CC=CC=C9C(=O)O)C#CC10=CC(=CC(=C10)C(=O)O)C(=O)O'\n",
            "[16:11:24] SMILES Parse Error: ring closure 1 duplicates bond between atom 88 and atom 93 for input: 'C1=CC(=CC=C1C2=CC(=C(C=C2C#CC3=CC(=CC(=C3)C#CC4=CC=C(C=C4)C#CC5=CC(=CC(=C5)C(=O)O)C#CC6=CC=CC=C6C(=O)O)C#CC7=CC=CC=C7C(=O)O)C#CC8=CC(=CC(=C8)C(=O)O)C(=O)O)C#CC9=CC=CC=C9C(=O)O)C#CC10=CC(=CC(=C10)C(=O)O)C(=O)O'\n",
            "[16:11:24] SMILES Parse Error: syntax error while parsing: C1=CC(=CC=C1C(=O)O)C(=O)O,N=C(N)C=CC2=CC=CC=C2C3=CC=CC4=CC=CC=C34\n",
            "[16:11:24] SMILES Parse Error: Failed parsing SMILES 'C1=CC(=CC=C1C(=O)O)C(=O)O,N=C(N)C=CC2=CC=CC=C2C3=CC=CC4=CC=CC=C34' for input: 'C1=CC(=CC=C1C(=O)O)C(=O)O,N=C(N)C=CC2=CC=CC=C2C3=CC=CC4=CC=CC=C34'\n",
            "[16:11:24] SMILES Parse Error: syntax error while parsing: C1=CC(=CC=C1C(=O)O)C(=O)O,N=C(C)C1=CC=CC=C1C(=O)NC(=O)C2=CC=CC=C2\n",
            "[16:11:24] SMILES Parse Error: Failed parsing SMILES 'C1=CC(=CC=C1C(=O)O)C(=O)O,N=C(C)C1=CC=CC=C1C(=O)NC(=O)C2=CC=CC=C2' for input: 'C1=CC(=CC=C1C(=O)O)C(=O)O,N=C(C)C1=CC=CC=C1C(=O)NC(=O)C2=CC=CC=C2'\n",
            "[16:11:24] SMILES Parse Error: syntax error while parsing: C1=CC(=CC=C1C(=O)O)C(=O)O,N=C(C)C1=CC=CC=C1C(=O)NC(=O)C2=CC=CC=C2\n",
            "[16:11:24] SMILES Parse Error: Failed parsing SMILES 'C1=CC(=CC=C1C(=O)O)C(=O)O,N=C(C)C1=CC=CC=C1C(=O)NC(=O)C2=CC=CC=C2' for input: 'C1=CC(=CC=C1C(=O)O)C(=O)O,N=C(C)C1=CC=CC=C1C(=O)NC(=O)C2=CC=CC=C2'\n",
            "[16:11:24] SMILES Parse Error: syntax error while parsing: C1=CC(=CC=C1C(=O)O)C(=O)O,C1=CC=NC=C1NC(=O)C2=CC=C(C=C2)C3=CC=CC=C3\n",
            "[16:11:24] SMILES Parse Error: Failed parsing SMILES 'C1=CC(=CC=C1C(=O)O)C(=O)O,C1=CC=NC=C1NC(=O)C2=CC=C(C=C2)C3=CC=CC=C3' for input: 'C1=CC(=CC=C1C(=O)O)C(=O)O,C1=CC=NC=C1NC(=O)C2=CC=C(C=C2)C3=CC=CC=C3'\n",
            "[16:11:24] SMILES Parse Error: syntax error while parsing: C1=CC(=CC=C1C(=O)O)C(=O)O,N=C(C=O)C1=CC=CC=C1NC2=CC=CC3=C2C=CC=C3\n",
            "[16:11:24] SMILES Parse Error: Failed parsing SMILES 'C1=CC(=CC=C1C(=O)O)C(=O)O,N=C(C=O)C1=CC=CC=C1NC2=CC=CC3=C2C=CC=C3' for input: 'C1=CC(=CC=C1C(=O)O)C(=O)O,N=C(C=O)C1=CC=CC=C1NC2=CC=CC3=C2C=CC=C3'\n",
            "[16:11:24] SMILES Parse Error: unclosed ring for input: 'C1=CC(=NN1)C2=CC(=NN2)C3=CC=CC=C4'\n",
            "[16:11:24] SMILES Parse Error: syntax error while parsing: [Br],C(=O)(C(=O)O)C1=CC=CC=C1,C1CN2CCNCC2N1\n",
            "[16:11:24] SMILES Parse Error: Failed parsing SMILES '[Br],C(=O)(C(=O)O)C1=CC=CC=C1,C1CN2CCNCC2N1' for input: '[Br],C(=O)(C(=O)O)C1=CC=CC=C1,C1CN2CCNCC2N1'\n",
            "[16:11:24] SMILES Parse Error: syntax error while parsing: C(=O)(C(=O)O)C1=CC(=CC=C1)N+[O-],C1CN2CCNCC2N1\n",
            "[16:11:24] SMILES Parse Error: Failed parsing SMILES 'C(=O)(C(=O)O)C1=CC(=CC=C1)N+[O-],C1CN2CCNCC2N1' for input: 'C(=O)(C(=O)O)C1=CC(=CC=C1)N+[O-],C1CN2CCNCC2N1'\n",
            "[16:11:24] SMILES Parse Error: syntax error while parsing: C(=O)(C(=O)O)C1=CC=CC=C1,C1CN2CCNCC2N1\n",
            "[16:11:24] SMILES Parse Error: Failed parsing SMILES 'C(=O)(C(=O)O)C1=CC=CC=C1,C1CN2CCNCC2N1' for input: 'C(=O)(C(=O)O)C1=CC=CC=C1,C1CN2CCNCC2N1'\n",
            "[16:11:24] SMILES Parse Error: syntax error while parsing: C(=O)(C(=O)O)C1=CC=CC=C1,Cl,Cl,C1CN2CCNCC2N1\n",
            "[16:11:24] SMILES Parse Error: Failed parsing SMILES 'C(=O)(C(=O)O)C1=CC=CC=C1,Cl,Cl,C1CN2CCNCC2N1' for input: 'C(=O)(C(=O)O)C1=CC=CC=C1,Cl,Cl,C1CN2CCNCC2N1'\n",
            "[16:11:24] SMILES Parse Error: syntax error while parsing: C(=O)(C(=O)O)C1=CC=CC=C1,O,C1CN2CCNCC2N1\n",
            "[16:11:24] SMILES Parse Error: Failed parsing SMILES 'C(=O)(C(=O)O)C1=CC=CC=C1,O,C1CN2CCNCC2N1' for input: 'C(=O)(C(=O)O)C1=CC=CC=C1,O,C1CN2CCNCC2N1'\n",
            "[16:11:24] SMILES Parse Error: syntax error while parsing: C(=O)(C(=O)O)C1=CC=CC=C1,C1CN2CCN(C2=N1)C\n",
            "[16:11:24] SMILES Parse Error: Failed parsing SMILES 'C(=O)(C(=O)O)C1=CC=CC=C1,C1CN2CCN(C2=N1)C' for input: 'C(=O)(C(=O)O)C1=CC=CC=C1,C1CN2CCN(C2=N1)C'\n",
            "[16:11:24] SMILES Parse Error: syntax error while parsing: C(=O)(C(=O)O)C1=CC=CC=C1,C1CN2CCN(C2=C1)C\n",
            "[16:11:24] SMILES Parse Error: Failed parsing SMILES 'C(=O)(C(=O)O)C1=CC=CC=C1,C1CN2CCN(C2=C1)C' for input: 'C(=O)(C(=O)O)C1=CC=CC=C1,C1CN2CCN(C2=C1)C'\n",
            "[16:11:24] SMILES Parse Error: syntax error while parsing: C(=O)(C(=O)O)C1=CC=CC=C1,C1CN2CCN(C2=C1)C\n",
            "[16:11:24] SMILES Parse Error: Failed parsing SMILES 'C(=O)(C(=O)O)C1=CC=CC=C1,C1CN2CCN(C2=C1)C' for input: 'C(=O)(C(=O)O)C1=CC=CC=C1,C1CN2CCN(C2=C1)C'\n",
            "[16:11:24] SMILES Parse Error: syntax error while parsing: C1=CC(=C(C=C1O)C(=O)O)C(=O)C(=O)O,C1=CC(=CC(=C1)N=NC2=CC=NC(=N2)C3=CC=NC(=N3)C(=O)O)C(=O)O\n",
            "[16:11:24] SMILES Parse Error: Failed parsing SMILES 'C1=CC(=C(C=C1O)C(=O)O)C(=O)C(=O)O,C1=CC(=CC(=C1)N=NC2=CC=NC(=N2)C3=CC=NC(=N3)C(=O)O)C(=O)O' for input: 'C1=CC(=C(C=C1O)C(=O)O)C(=O)C(=O)O,C1=CC(=CC(=C1)N=NC2=CC=NC(=N2)C3=CC=NC(=N3)C(=O)O)C(=O)O'\n",
            "[16:11:24] SMILES Parse Error: syntax error while parsing: C1=CC(=C(C=C1O)C(=O)O)C(=O)C(=O)O,C1=CC(=CC(=C1)N=NC2=CC=NC(=N2)C3=CC=NC(=N3)C(=O)O)C(=O)O\n",
            "[16:11:24] SMILES Parse Error: Failed parsing SMILES 'C1=CC(=C(C=C1O)C(=O)O)C(=O)C(=O)O,C1=CC(=CC(=C1)N=NC2=CC=NC(=N2)C3=CC=NC(=N3)C(=O)O)C(=O)O' for input: 'C1=CC(=C(C=C1O)C(=O)O)C(=O)C(=O)O,C1=CC(=CC(=C1)N=NC2=CC=NC(=N2)C3=CC=NC(=N3)C(=O)O)C(=O)O'\n",
            "[16:11:24] SMILES Parse Error: syntax error while parsing: C1=CC(=C(C=C1O)C(=O)O)C(=O)C(=O)O,C1=CC(=CC(=C1)N=NC2=CC=NC(=N2)C3=CC=NC(=N3)C(=O)O)C(=O)O\n",
            "[16:11:24] SMILES Parse Error: Failed parsing SMILES 'C1=CC(=C(C=C1O)C(=O)O)C(=O)C(=O)O,C1=CC(=CC(=C1)N=NC2=CC=NC(=N2)C3=CC=NC(=N3)C(=O)O)C(=O)O' for input: 'C1=CC(=C(C=C1O)C(=O)O)C(=O)C(=O)O,C1=CC(=CC(=C1)N=NC2=CC=NC(=N2)C3=CC=NC(=N3)C(=O)O)C(=O)O'\n",
            "[16:11:24] SMILES Parse Error: syntax error while parsing: C1=CC(=C(C=C1O)C(=O)O)C(=O)C(=O)O,C1=CC(=CC(=C1)N=NC2=CC=NC(=N2)C3=CC=NC(=N3)C(=O)O)C(=O)O\n",
            "[16:11:24] SMILES Parse Error: Failed parsing SMILES 'C1=CC(=C(C=C1O)C(=O)O)C(=O)C(=O)O,C1=CC(=CC(=C1)N=NC2=CC=NC(=N2)C3=CC=NC(=N3)C(=O)O)C(=O)O' for input: 'C1=CC(=C(C=C1O)C(=O)O)C(=O)C(=O)O,C1=CC(=CC(=C1)N=NC2=CC=NC(=N2)C3=CC=NC(=N3)C(=O)O)C(=O)O'\n",
            "[16:11:24] SMILES Parse Error: syntax error while parsing: C1=CC(=CC(=C1)C(=O)O)N,C1=CC(=NC(=C1)N=NC2=CC(=NC(=C2)N=NC3=CC=NC(=N3)C(=O)O)C(=O)O)C(=O)O\n",
            "[16:11:24] SMILES Parse Error: Failed parsing SMILES 'C1=CC(=CC(=C1)C(=O)O)N,C1=CC(=NC(=C1)N=NC2=CC(=NC(=C2)N=NC3=CC=NC(=N3)C(=O)O)C(=O)O)C(=O)O' for input: 'C1=CC(=CC(=C1)C(=O)O)N,C1=CC(=NC(=C1)N=NC2=CC(=NC(=C2)N=NC3=CC=NC(=N3)C(=O)O)C(=O)O)C(=O)O'\n",
            "[16:11:24] SMILES Parse Error: syntax error while parsing: C1=CC(=CC(=C1)C(=O)O)N,C1=CC(=NC(=C1)N=NC2=CC(=NC(=C2)N=NC3=CC=NC(=N3)C(=O)O)C(=O)O)C(=O)O\n",
            "[16:11:24] SMILES Parse Error: Failed parsing SMILES 'C1=CC(=CC(=C1)C(=O)O)N,C1=CC(=NC(=C1)N=NC2=CC(=NC(=C2)N=NC3=CC=NC(=N3)C(=O)O)C(=O)O)C(=O)O' for input: 'C1=CC(=CC(=C1)C(=O)O)N,C1=CC(=NC(=C1)N=NC2=CC(=NC(=C2)N=NC3=CC=NC(=N3)C(=O)O)C(=O)O)C(=O)O'\n",
            "[16:11:24] SMILES Parse Error: syntax error while parsing: C1=CC(=CC(=C1)C(=O)O)N,C1=CC(=NC(=C1)N=NC2=CC(=NC(=C2)N=NC3=CC=NC(=N3)C(=O)O)C(=O)O)C(=O)O\n",
            "[16:11:24] SMILES Parse Error: Failed parsing SMILES 'C1=CC(=CC(=C1)C(=O)O)N,C1=CC(=NC(=C1)N=NC2=CC(=NC(=C2)N=NC3=CC=NC(=N3)C(=O)O)C(=O)O)C(=O)O' for input: 'C1=CC(=CC(=C1)C(=O)O)N,C1=CC(=NC(=C1)N=NC2=CC(=NC(=C2)N=NC3=CC=NC(=N3)C(=O)O)C(=O)O)C(=O)O'\n",
            "[16:11:24] SMILES Parse Error: syntax error while parsing: C1=CC(=CC(=C1)C(=O)O)N,C1=CC(=NC(=C1)N=NC2=CC(=NC(=C2)N=NC3=CC=NC(=N3)C(=O)O)C(=O)O)C(=O)O\n",
            "[16:11:24] SMILES Parse Error: Failed parsing SMILES 'C1=CC(=CC(=C1)C(=O)O)N,C1=CC(=NC(=C1)N=NC2=CC(=NC(=C2)N=NC3=CC=NC(=N3)C(=O)O)C(=O)O)C(=O)O' for input: 'C1=CC(=CC(=C1)C(=O)O)N,C1=CC(=NC(=C1)N=NC2=CC(=NC(=C2)N=NC3=CC=NC(=N3)C(=O)O)C(=O)O)C(=O)O'\n",
            "[16:11:24] SMILES Parse Error: syntax error while parsing: C1=CC(=CC=C1C(=O)O)C2=CC=C3C(=C2)C=CC(=C3)C(=O)O,C1=CC(=NC(=C1)N=NC2=CC(=NC(=C2)N=NC3=CC=NC(=N3)C(=O)O)C(=O)O)C(=O)O\n",
            "[16:11:24] SMILES Parse Error: Failed parsing SMILES 'C1=CC(=CC=C1C(=O)O)C2=CC=C3C(=C2)C=CC(=C3)C(=O)O,C1=CC(=NC(=C1)N=NC2=CC(=NC(=C2)N=NC3=CC=NC(=N3)C(=O)O)C(=O)O)C(=O)O' for input: 'C1=CC(=CC=C1C(=O)O)C2=CC=C3C(=C2)C=CC(=C3)C(=O)O,C1=CC(=NC(=C1)N=NC2=CC(=NC(=C2)N=NC3=CC=NC(=N3)C(=O)O)C(=O)O)C(=O)O'\n",
            "[16:11:24] SMILES Parse Error: syntax error while parsing: C1=CC(=CC=C1C(=O)O)C2=CC=C3C(=C2)C=CC(=C3)C(=O)O,C1=CC(=NC(=C1)N=NC2=CC(=NC(=C2)N=NC3=CC=NC(=N3)C(=O)O)C(=O)O)C(=O)O\n",
            "[16:11:24] SMILES Parse Error: Failed parsing SMILES 'C1=CC(=CC=C1C(=O)O)C2=CC=C3C(=C2)C=CC(=C3)C(=O)O,C1=CC(=NC(=C1)N=NC2=CC(=NC(=C2)N=NC3=CC=NC(=N3)C(=O)O)C(=O)O)C(=O)O' for input: 'C1=CC(=CC=C1C(=O)O)C2=CC=C3C(=C2)C=CC(=C3)C(=O)O,C1=CC(=NC(=C1)N=NC2=CC(=NC(=C2)N=NC3=CC=NC(=N3)C(=O)O)C(=O)O)C(=O)O'\n",
            "[16:11:24] SMILES Parse Error: syntax error while parsing: C1=CC(=CC=C1C(=O)O)C2=CC=C3C(=C2)C=CC(=C3)C(=O)O,C1=CC(=NC(=C1)N=NC2=CC(=NC(=C2)N=NC3=CC=NC(=N3)C(=O)O)C(=O)O)C(=O)O\n",
            "[16:11:24] SMILES Parse Error: Failed parsing SMILES 'C1=CC(=CC=C1C(=O)O)C2=CC=C3C(=C2)C=CC(=C3)C(=O)O,C1=CC(=NC(=C1)N=NC2=CC(=NC(=C2)N=NC3=CC=NC(=N3)C(=O)O)C(=O)O)C(=O)O' for input: 'C1=CC(=CC=C1C(=O)O)C2=CC=C3C(=C2)C=CC(=C3)C(=O)O,C1=CC(=NC(=C1)N=NC2=CC(=NC(=C2)N=NC3=CC=NC(=N3)C(=O)O)C(=O)O)C(=O)O'\n",
            "[16:11:24] SMILES Parse Error: syntax error while parsing: C1=CC(=CC=C1C(=O)O)C2=CC=C3C(=C2)C=CC(=C3)C(=O)O,C1=CC(=NC(=C1)N=NC2=CC(=NC(=C2)N=NC3=CC=NC(=N3)C(=O)O)C(=O)O)C(=O)O\n",
            "[16:11:24] SMILES Parse Error: Failed parsing SMILES 'C1=CC(=CC=C1C(=O)O)C2=CC=C3C(=C2)C=CC(=C3)C(=O)O,C1=CC(=NC(=C1)N=NC2=CC(=NC(=C2)N=NC3=CC=NC(=N3)C(=O)O)C(=O)O)C(=O)O' for input: 'C1=CC(=CC=C1C(=O)O)C2=CC=C3C(=C2)C=CC(=C3)C(=O)O,C1=CC(=NC(=C1)N=NC2=CC(=NC(=C2)N=NC3=CC=NC(=N3)C(=O)O)C(=O)O)C(=O)O'\n",
            "[16:11:24] SMILES Parse Error: syntax error while parsing: C1=CC(=CC=C1C(=O)O)C2=CC(=C3C=CC(=C2)C(=O)C=CC3=O)C(=O)O,C1=CC(=NC(=C1)N=NC2=CC(=NC(=C2)N=NC3=CC=NC(=N3)C(=O)O)C(=O)O)C(=O)O\n",
            "[16:11:24] SMILES Parse Error: Failed parsing SMILES 'C1=CC(=CC=C1C(=O)O)C2=CC(=C3C=CC(=C2)C(=O)C=CC3=O)C(=O)O,C1=CC(=NC(=C1)N=NC2=CC(=NC(=C2)N=NC3=CC=NC(=N3)C(=O)O)C(=O)O)C(=O)O' for input: 'C1=CC(=CC=C1C(=O)O)C2=CC(=C3C=CC(=C2)C(=O)C=CC3=O)C(=O)O,C1=CC(=NC(=C1)N=NC2=CC(=NC(=C2)N=NC3=CC=NC(=N3)C(=O)O)C(=O)O)C(=O)O'\n",
            "[16:11:24] SMILES Parse Error: syntax error while parsing: C1=CC(=CC=C1C(=O)O)C2=CC(=C3C=CC(=C2)C(=O)C=CC3=O)C(=O)O,C1=CC(=NC(=C1)N=NC2=CC(=NC(=C2)N=NC3=CC=NC(=N3)C(=O)O)C(=O)O)C(=O)O\n",
            "[16:11:24] SMILES Parse Error: Failed parsing SMILES 'C1=CC(=CC=C1C(=O)O)C2=CC(=C3C=CC(=C2)C(=O)C=CC3=O)C(=O)O,C1=CC(=NC(=C1)N=NC2=CC(=NC(=C2)N=NC3=CC=NC(=N3)C(=O)O)C(=O)O)C(=O)O' for input: 'C1=CC(=CC=C1C(=O)O)C2=CC(=C3C=CC(=C2)C(=O)C=CC3=O)C(=O)O,C1=CC(=NC(=C1)N=NC2=CC(=NC(=C2)N=NC3=CC=NC(=N3)C(=O)O)C(=O)O)C(=O)O'\n",
            "[16:11:24] SMILES Parse Error: syntax error while parsing: C1=CC(=CC=C1C(=O)O)C2=CC(=C3C=CC(=C2)C(=O)C=CC3=O)C(=O)O,C1=CC(=NC(=C1)N=NC2=CC(=NC(=C2)N=NC3=CC=NC(=N3)C(=O)O)C(=O)O)C(=O)O\n",
            "[16:11:24] SMILES Parse Error: Failed parsing SMILES 'C1=CC(=CC=C1C(=O)O)C2=CC(=C3C=CC(=C2)C(=O)C=CC3=O)C(=O)O,C1=CC(=NC(=C1)N=NC2=CC(=NC(=C2)N=NC3=CC=NC(=N3)C(=O)O)C(=O)O)C(=O)O' for input: 'C1=CC(=CC=C1C(=O)O)C2=CC(=C3C=CC(=C2)C(=O)C=CC3=O)C(=O)O,C1=CC(=NC(=C1)N=NC2=CC(=NC(=C2)N=NC3=CC=NC(=N3)C(=O)O)C(=O)O)C(=O)O'\n",
            "[16:11:24] SMILES Parse Error: syntax error while parsing: C1=CC(=CC=C1C(=O)O)C2=CC(=C3C=CC(=C2)C(=O)C=CC3=O)C(=O)O,C1=CC(=NC(=C1)N=NC2=CC(=NC(=C2)N=NC3=CC=NC(=N3)C(=O)O)C(=O)O)C(=O)O\n",
            "[16:11:24] SMILES Parse Error: Failed parsing SMILES 'C1=CC(=CC=C1C(=O)O)C2=CC(=C3C=CC(=C2)C(=O)C=CC3=O)C(=O)O,C1=CC(=NC(=C1)N=NC2=CC(=NC(=C2)N=NC3=CC=NC(=N3)C(=O)O)C(=O)O)C(=O)O' for input: 'C1=CC(=CC=C1C(=O)O)C2=CC(=C3C=CC(=C2)C(=O)C=CC3=O)C(=O)O,C1=CC(=NC(=C1)N=NC2=CC(=NC(=C2)N=NC3=CC=NC(=N3)C(=O)O)C(=O)O)C(=O)O'\n",
            "[16:11:24] SMILES Parse Error: syntax error while parsing: C1=CC(=CC=C1C(=O)O)C2=CC=CC=C2,C1=CC(=NC(=C1)N=NC2=CC(=NC(=C2)N=NC3=CC=NC(=N3)C(=O)O)C(=O)O)C(=O)O\n",
            "[16:11:24] SMILES Parse Error: Failed parsing SMILES 'C1=CC(=CC=C1C(=O)O)C2=CC=CC=C2,C1=CC(=NC(=C1)N=NC2=CC(=NC(=C2)N=NC3=CC=NC(=N3)C(=O)O)C(=O)O)C(=O)O' for input: 'C1=CC(=CC=C1C(=O)O)C2=CC=CC=C2,C1=CC(=NC(=C1)N=NC2=CC(=NC(=C2)N=NC3=CC=NC(=N3)C(=O)O)C(=O)O)C(=O)O'\n",
            "[16:11:24] SMILES Parse Error: syntax error while parsing: C1=CC(=CC=C1C(=O)O)C2=CC=CC=C2,C1=CC(=NC(=C1)N=NC2=CC(=NC(=C2)N=NC3=CC=NC(=N3)C(=O)O)C(=O)O)C(=O)O\n",
            "[16:11:24] SMILES Parse Error: Failed parsing SMILES 'C1=CC(=CC=C1C(=O)O)C2=CC=CC=C2,C1=CC(=NC(=C1)N=NC2=CC(=NC(=C2)N=NC3=CC=NC(=N3)C(=O)O)C(=O)O)C(=O)O' for input: 'C1=CC(=CC=C1C(=O)O)C2=CC=CC=C2,C1=CC(=NC(=C1)N=NC2=CC(=NC(=C2)N=NC3=CC=NC(=N3)C(=O)O)C(=O)O)C(=O)O'\n",
            "[16:11:24] SMILES Parse Error: syntax error while parsing: C1=CC(=CC=C1C(=O)O)C2=CC=CC=C2,C1=CC(=NC(=C1)N=NC2=CC(=NC(=C2)N=NC3=CC=NC(=N3)C(=O)O)C(=O)O)C(=O)O\n",
            "[16:11:24] SMILES Parse Error: Failed parsing SMILES 'C1=CC(=CC=C1C(=O)O)C2=CC=CC=C2,C1=CC(=NC(=C1)N=NC2=CC(=NC(=C2)N=NC3=CC=NC(=N3)C(=O)O)C(=O)O)C(=O)O' for input: 'C1=CC(=CC=C1C(=O)O)C2=CC=CC=C2,C1=CC(=NC(=C1)N=NC2=CC(=NC(=C2)N=NC3=CC=NC(=N3)C(=O)O)C(=O)O)C(=O)O'\n",
            "[16:11:24] SMILES Parse Error: syntax error while parsing: C1=CC(=CC=C1C(=O)O)C2=CC=CC=C2,C1=CC(=NC(=C1)N=NC2=CC(=NC(=C2)N=NC3=CC=NC(=N3)C(=O)O)C(=O)O)C(=O)O\n",
            "[16:11:24] SMILES Parse Error: Failed parsing SMILES 'C1=CC(=CC=C1C(=O)O)C2=CC=CC=C2,C1=CC(=NC(=C1)N=NC2=CC(=NC(=C2)N=NC3=CC=NC(=N3)C(=O)O)C(=O)O)C(=O)O' for input: 'C1=CC(=CC=C1C(=O)O)C2=CC=CC=C2,C1=CC(=NC(=C1)N=NC2=CC(=NC(=C2)N=NC3=CC=NC(=N3)C(=O)O)C(=O)O)C(=O)O'\n",
            "[16:11:24] SMILES Parse Error: syntax error while parsing: C1=CC(=CC=C1C(=O)O)C(=O)O,C1=CC(=NC(=C1)C2=NC(=CC=C2)C(=N)N)C(=N)N\n",
            "[16:11:24] SMILES Parse Error: Failed parsing SMILES 'C1=CC(=CC=C1C(=O)O)C(=O)O,C1=CC(=NC(=C1)C2=NC(=CC=C2)C(=N)N)C(=N)N' for input: 'C1=CC(=CC=C1C(=O)O)C(=O)O,C1=CC(=NC(=C1)C2=NC(=CC=C2)C(=N)N)C(=N)N'\n",
            "[16:11:24] SMILES Parse Error: syntax error while parsing: C1=CC(=CC=C1C(=O)O)C(=O)O,C1=CN=CN=C1\n",
            "[16:11:24] SMILES Parse Error: Failed parsing SMILES 'C1=CC(=CC=C1C(=O)O)C(=O)O,C1=CN=CN=C1' for input: 'C1=CC(=CC=C1C(=O)O)C(=O)O,C1=CN=CN=C1'\n",
            "[16:11:24] SMILES Parse Error: syntax error while parsing: C1=CC(=CC(=C1C2=NC(=NN2)N3C=NC(=N3)C4=CC=CC=C4)C(=O)O)C(=O)O,CCN(CCN)CC\n",
            "[16:11:24] SMILES Parse Error: Failed parsing SMILES 'C1=CC(=CC(=C1C2=NC(=NN2)N3C=NC(=N3)C4=CC=CC=C4)C(=O)O)C(=O)O,CCN(CCN)CC' for input: 'C1=CC(=CC(=C1C2=NC(=NN2)N3C=NC(=N3)C4=CC=CC=C4)C(=O)O)C(=O)O,CCN(CCN)CC'\n",
            "[16:11:24] SMILES Parse Error: syntax error while parsing: C1=CC(=CC(=C1C2=NC(=NN2)N3C=NC(=N3)C4=CC=CC=C4)C(=O)O)C(=O)O,CCN(CCN)CC\n",
            "[16:11:24] SMILES Parse Error: Failed parsing SMILES 'C1=CC(=CC(=C1C2=NC(=NN2)N3C=NC(=N3)C4=CC=CC=C4)C(=O)O)C(=O)O,CCN(CCN)CC' for input: 'C1=CC(=CC(=C1C2=NC(=NN2)N3C=NC(=N3)C4=CC=CC=C4)C(=O)O)C(=O)O,CCN(CCN)CC'\n",
            "[16:11:24] SMILES Parse Error: syntax error while parsing: 1=CC=C(C=C1)C(=O)OC2=CC(=CC(=C2)C3=CC=C(C=C3)C(=O)OC4=CC=CC(=C4)C(=O)OC5=CC=CC(=C5)C(=O)O)C(=O)O\n",
            "[16:11:24] SMILES Parse Error: Failed parsing SMILES '1=CC=C(C=C1)C(=O)OC2=CC(=CC(=C2)C3=CC=C(C=C3)C(=O)OC4=CC=CC(=C4)C(=O)OC5=CC=CC(=C5)C(=O)O)C(=O)O' for input: '1=CC=C(C=C1)C(=O)OC2=CC(=CC(=C2)C3=CC=C(C=C3)C(=O)OC4=CC=CC(=C4)C(=O)OC5=CC=CC(=C5)C(=O)O)C(=O)O'\n",
            "[16:11:24] SMILES Parse Error: syntax error while parsing: 1=CC=C(C=C1)C(=O)OC2=CC(=CC(=C2)C3=CC=C(C=C3)C(=O)OC4=CC=CC(=C4)C(=O)OC5=CC=CC(=C5)C(=O)O)C(=O)O\n",
            "[16:11:24] SMILES Parse Error: Failed parsing SMILES '1=CC=C(C=C1)C(=O)OC2=CC(=CC(=C2)C3=CC=C(C=C3)C(=O)OC4=CC=CC(=C4)C(=O)OC5=CC=CC(=C5)C(=O)O)C(=O)O' for input: '1=CC=C(C=C1)C(=O)OC2=CC(=CC(=C2)C3=CC=C(C=C3)C(=O)OC4=CC=CC(=C4)C(=O)OC5=CC=CC(=C5)C(=O)O)C(=O)O'\n",
            "[16:11:24] SMILES Parse Error: syntax error while parsing: OC(=O)C1=CC=CC=C1O,C1N2CC(C1)N3C2C3\n",
            "[16:11:24] SMILES Parse Error: Failed parsing SMILES 'OC(=O)C1=CC=CC=C1O,C1N2CC(C1)N3C2C3' for input: 'OC(=O)C1=CC=CC=C1O,C1N2CC(C1)N3C2C3'\n",
            "[16:11:24] SMILES Parse Error: unclosed ring for input: 'C1=CC(=C(C=C1C(=O)O)C(=O)O)C2=CC=CC=C3'\n",
            "[16:11:24] SMILES Parse Error: unclosed ring for input: 'C1=CC(=C(C=C1C(=O)O)C(=O)O)C2=CC=CC=C4'\n",
            "[16:11:24] SMILES Parse Error: syntax error while parsing: C1=CC(=C(C=C1C(=O)O)N+[O-])C(=O)C2=CC(=C(C=C2N+[O-])C(=O)O)N+[O-]\n",
            "[16:11:24] SMILES Parse Error: Failed parsing SMILES 'C1=CC(=C(C=C1C(=O)O)N+[O-])C(=O)C2=CC(=C(C=C2N+[O-])C(=O)O)N+[O-]' for input: 'C1=CC(=C(C=C1C(=O)O)N+[O-])C(=O)C2=CC(=C(C=C2N+[O-])C(=O)O)N+[O-]'\n",
            "[16:11:24] SMILES Parse Error: syntax error while parsing: C1=CC(=C(C=C1C(=O)O)N+[O-])C(=O)C2=CC(=C(C=C2N+[O-])C(=O)O)N+[O-]\n",
            "[16:11:24] SMILES Parse Error: Failed parsing SMILES 'C1=CC(=C(C=C1C(=O)O)N+[O-])C(=O)C2=CC(=C(C=C2N+[O-])C(=O)O)N+[O-]' for input: 'C1=CC(=C(C=C1C(=O)O)N+[O-])C(=O)C2=CC(=C(C=C2N+[O-])C(=O)O)N+[O-]'\n",
            "[16:11:24] SMILES Parse Error: syntax error while parsing: C1=CC(=C(C=C1C(=O)O)N+[O-])C(=O)C2=CC(=C(C=C2N+[O-])C(=O)O)N+[O-]\n",
            "[16:11:24] SMILES Parse Error: Failed parsing SMILES 'C1=CC(=C(C=C1C(=O)O)N+[O-])C(=O)C2=CC(=C(C=C2N+[O-])C(=O)O)N+[O-]' for input: 'C1=CC(=C(C=C1C(=O)O)N+[O-])C(=O)C2=CC(=C(C=C2N+[O-])C(=O)O)N+[O-]'\n",
            "[16:11:24] SMILES Parse Error: unclosed ring for input: 'C1=NC2=NC=NC(N)=C2N2'\n",
            "[16:11:24] SMILES Parse Error: unclosed ring for input: 'C1=NC2=NC=NC(N)=C2N3'\n",
            "[16:11:24] SMILES Parse Error: unclosed ring for input: 'C1=NC2=NC=NC(N)=C2N4'\n",
            "[16:11:24] SMILES Parse Error: unclosed ring for input: 'C1=NC2=NC=NC(N)=C2N5'\n",
            "[16:11:24] SMILES Parse Error: unclosed ring for input: 'C1=NC2=NC=NC(N)=C2N6'\n",
            "[16:11:24] SMILES Parse Error: unclosed ring for input: 'C1=NC2=NC=NC(N)=C2N7'\n",
            "[16:11:24] SMILES Parse Error: unclosed ring for input: 'C1=NC2=NC=NC(N)=C2N8'\n"
          ]
        }
      ]
    }
  ]
}