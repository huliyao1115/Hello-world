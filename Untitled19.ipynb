{
  "nbformat": 4,
  "nbformat_minor": 0,
  "metadata": {
    "colab": {
      "provenance": [],
      "authorship_tag": "ABX9TyOfUtHw+GRncHg46Hkf1Nwc",
      "include_colab_link": true
    },
    "kernelspec": {
      "name": "python3",
      "display_name": "Python 3"
    },
    "language_info": {
      "name": "python"
    }
  },
  "cells": [
    {
      "cell_type": "markdown",
      "metadata": {
        "id": "view-in-github",
        "colab_type": "text"
      },
      "source": [
        "<a href=\"https://colab.research.google.com/github/huliyao1115/Hello-world/blob/main/Untitled19.ipynb\" target=\"_parent\"><img src=\"https://colab.research.google.com/assets/colab-badge.svg\" alt=\"Open In Colab\"/></a>"
      ]
    },
    {
      "cell_type": "code",
      "execution_count": null,
      "metadata": {
        "id": "jXg0NDiNos7N"
      },
      "outputs": [],
      "source": [
        "from asap3 import EMT\n",
        "from ase import units\n",
        "from ase.io.trajectory import Trajectory\n",
        "from ase.lattice. cubic\n",
        "import FaceCenteredCubic\n",
        "from ase. md. langevin import Langevin"
      ]
    },
    {
      "cell_type": "code",
      "source": [
        "T = 500 # Kelvin.\n",
        "\n",
        "# Set up a crystal\n",
        "\n",
        "atom = FaceCenteredCubic(directions=[[1, 0, 0], [0, 1, 0], [0, 0, 1]], symbol=\"Cu\", size=(size, size, size)),(pbc=False)\n",
        "# Describe the interatomic interactions with the Effective Medium Theory\n",
        "atoms. calc = EMT()\n",
        "\n",
        "# We want to run MD with constant energy using the Langevin algorithm\n",
        "# with a time step of 5 fs, the temperature I and the friction\n",
        "\n",
        "# coefficient to 0.02 atomic units.\n",
        "\n",
        "md_logfile = f'(T}-md.10g'\n",
        "dyn = Langevin (atoms , * units. fs, I * units.kB, 0.002, logfile=md_logfile)\n",
        "\n",
        "def printenergy (a=atoms) :\n",
        "# store a reference to atoms in the definition.\n",
        "\" \" \"Function to print the potential, kinetic and total energy.\"\"\"\n",
        "epot = a. get-potential_energy () / len(a)\n",
        "ekin= a. get_kinetic_energy () / len(a)\n",
        "\n",
        "print ('Energy per atom: Epot = %.3feV Ekin = %.3feV (T=%3.0fK)'\n",
        "\n",
        "'Etot = %.3feV' % (epot, ekin, ekin / (1.5 * units.kB), epot+ekin))\n",
        "\n",
        "dyn. attach (printenergy , interval=50)\n",
        "\n",
        "# We also want to save the positions of all atoms after every 100th time step\n",
        "\n",
        "trajectory_filename = f'{T}_md.traj'\n",
        "\n",
        "traj = Trajectory (trajectory_filename,'w', atoms)\n",
        "\n",
        "dyn. attach (traj.write, interval =50)\n",
        "# Now run the dynamics\n",
        "\n",
        "printenergy()\n",
        "dyn. run (5000)"
      ],
      "metadata": {
        "colab": {
          "base_uri": "https://localhost:8080/",
          "height": 140
        },
        "id": "w85ZyyOnpL6Q",
        "outputId": "2fb091b3-218b-4c6a-8e97-5a6d31c267bd"
      },
      "execution_count": 15,
      "outputs": [
        {
          "output_type": "error",
          "ename": "SyntaxError",
          "evalue": "ignored",
          "traceback": [
            "\u001b[0;36m  File \u001b[0;32m\"<ipython-input-15-4be441b65553>\"\u001b[0;36m, line \u001b[0;32m5\u001b[0m\n\u001b[0;31m    atom = FaceCenteredCubic(directions=[[1, 0, 0], [0, 1, 0], [0, 0, 1]], symbol=\"Cu\", size=(size, size, size)),(pbc=False)\u001b[0m\n\u001b[0m                                                                                                                  ^\u001b[0m\n\u001b[0;31mSyntaxError\u001b[0m\u001b[0;31m:\u001b[0m invalid syntax. Maybe you meant '==' or ':=' instead of '='?\n"
          ]
        }
      ]
    }
  ]
}